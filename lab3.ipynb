{
 "cells": [
  {
   "cell_type": "markdown",
   "metadata": {
    "tags": [],
    "cell_id": "9097c219-fab8-4cf9-ae2c-c4100a631fb8",
    "deepnote_to_be_reexecuted": false,
    "source_hash": "1a90b5e2",
    "execution_start": 1647940927072,
    "execution_millis": 4,
    "deepnote_cell_type": "markdown",
    "deepnote_cell_height": 818.640625
   },
   "source": "# Metody Inteligencji Obliczeniowej w Analizie Danych\n\n[Tasks](https://pages.mini.pw.edu.pl/~karwowskij/mioad/lab-sieci.html)\n\n### Lab 4: NN3: Implementacja momentu i normalizacji gradientu (1 tydzień, 2 punkty)\n\nZaimplementować dwa usprawnienia uczenia gradientowego sieci neuronowej:\n- moment,\n- normalizację gradientu RMSProp.\n\nPorównać szybkość zbieżności procesu uczenia dla obu wariantów.\n\nPrzeprowadzić eksperymenty na zbiorach(w nawiasach wartość MSE, aby otrzymać 2 punkty):\n- square-large (MSE: 1),\n- steps-large (MSE: 3),\n- multimodal-large (MSE: 9).\n\nLiteratura:\n- Uczenie gradientowe z momentem: rozdział 3.2.2 Computational Intelligence, A. P. Engelbrecht\n\n- Normalizacja gradientu: Wykład 6e: http://www.cs.toronto.edu/~tijmen/csc321/slides/lecture_slides_lec6.pdf",
   "execution_count": 1
  },
  {
   "cell_type": "markdown",
   "source": "#### TODO:\n\n- implement cost function for MSE\n- implement learning with moment\n- implement RMSProp gradient normalization\n",
   "metadata": {
    "cell_id": "bfc1e33d7f924cbc884f5179d3152288",
    "tags": [],
    "deepnote_cell_type": "markdown",
    "deepnote_cell_height": 153.171875
   },
   "outputs": [],
   "execution_count": null
  },
  {
   "cell_type": "code",
   "source": "from MultiLayerPerceptron import NeuralNetwork, Layer\nimport pandas as pd",
   "metadata": {
    "cell_id": "c9bc7de4598946a0af2e5a7912b15b63",
    "tags": [],
    "deepnote_to_be_reexecuted": false,
    "source_hash": "6ba13506",
    "execution_start": 1647941647568,
    "execution_millis": 3774,
    "deepnote_cell_type": "code",
    "deepnote_cell_height": 99
   },
   "outputs": [],
   "execution_count": 4
  },
  {
   "cell_type": "markdown",
   "source": "## Dataset 1: Square Large",
   "metadata": {
    "cell_id": "20333135a98e4d70acf928be90f6803f",
    "tags": [],
    "deepnote_cell_type": "markdown",
    "deepnote_cell_height": 70
   },
   "outputs": [],
   "execution_count": null
  },
  {
   "cell_type": "code",
   "source": "df_train = pd.read_csv('data/regression/square-large-training.csv').set_index(\"Unnamed: 0\")\ndf_test = pd.read_csv('data/regression/square-large-test.csv').set_index(\"Unnamed: 0\")\nprint(df_test.head())\n\nx_train = [[x] for x in df_train.loc[:,\"x\"]]\ny_train = [[y] for y in df_train.loc[:,\"y\"]]\nx_test = [[x] for x in df_test.loc[:,\"x\"]]\ny_test = [[y] for y in df_test.loc[:,\"y\"]]",
   "metadata": {
    "cell_id": "84b80fbf1fcc4e79829d5896f5218e07",
    "tags": [],
    "deepnote_to_be_reexecuted": false,
    "source_hash": "13eadf0b",
    "execution_start": 1647941653358,
    "execution_millis": 43,
    "deepnote_cell_type": "code",
    "deepnote_cell_height": 359.3125
   },
   "outputs": [
    {
     "name": "stdout",
     "text": "                   x           y\nUnnamed: 0                      \n1           1.366456   38.048149\n2          -0.390025 -116.309280\n3           1.090418  -22.988883\n4           1.805831  163.492435\n5          -0.938124  -50.793090\n",
     "output_type": "stream"
    }
   ],
   "execution_count": 6
  },
  {
   "cell_type": "markdown",
   "source": "#### Model 1",
   "metadata": {
    "cell_id": "22c9391c0cbf4cfebfeece6621d07bbe",
    "tags": [],
    "deepnote_cell_type": "markdown",
    "deepnote_cell_height": 54
   },
   "outputs": [],
   "execution_count": null
  },
  {
   "outputs": [],
   "execution_count": null,
   "cell_type": "code",
   "source": "",
   "metadata": {
    "cell_id": "77ac02cea2114511a3a8439015092ca0",
    "tags": [],
    "deepnote_cell_type": "code",
    "deepnote_cell_height": 46
   }
  },
  {
   "cell_type": "markdown",
   "source": "<a style='text-decoration:none;line-height:16px;display:flex;color:#5B5B62;padding:10px;justify-content:end;' href='https://deepnote.com?utm_source=created-in-deepnote-cell&projectId=96d48dca-8d08-48ed-b693-a040059620ca' target=\"_blank\">\n<img alt='Created in deepnote.com' style='display:inline;max-height:16px;margin:0px;margin-right:7.5px;' src='data:image/svg+xml;base64,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' > </img>\nCreated in <span style='font-weight:600;margin-left:4px;'>Deepnote</span></a>",
   "metadata": {
    "tags": [],
    "created_in_deepnote_cell": true,
    "deepnote_cell_type": "markdown"
   }
  }
 ],
 "nbformat": 4,
 "nbformat_minor": 2,
 "metadata": {
  "orig_nbformat": 2,
  "deepnote": {
   "is_reactive": false
  },
  "deepnote_notebook_id": "551fb206-a450-4be6-a374-63566cc644fb",
  "deepnote_execution_queue": []
 }
}