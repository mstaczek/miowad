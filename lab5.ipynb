{
 "cells": [
  {
   "cell_type": "markdown",
   "metadata": {},
   "source": [
    "# Metody Inteligencji Obliczeniowej w Analizie Danych\n",
    "\n",
    "[Tasks](https://pages.mini.pw.edu.pl/~karwowskij/mioad/lab-sieci.html)\n",
    "\n",
    "### Lab 5: NN4: Rozwiązywanie zadania klasyfikacji (1 tydzień, 2 punkty)\n",
    "\n",
    "Zaimplementować funkcję softmax dla warstwy wyjściowej sieci neuronowej. Sprawdzić szybkość i\n",
    "skuteczność w wariancie, gdy sieć używa funkcji softmax na ostatniej warstwie i gdy jest użyta zwykła\n",
    "funkcja aktywacji. \n",
    "\n",
    "**Softmax wymaga też odpowiednich zmian w algorytmie uczenia, uwzględniających\n",
    "pochodną fukcji.**\n",
    "\n",
    "Przeprowadzić eksperymenty na zbiorach (w nawiasach wymagana wartość F-measure na 2 punkty):\n",
    "- rings3-regular (F-measure: 0.75),\n",
    "- easy (F-measure: 0.99),\n",
    "- xor3 (F-measure: 0.97)."
   ]
  },
  {
   "cell_type": "markdown",
   "metadata": {},
   "source": [
    "#### TODO:\n",
    "\n",
    "- implement softmax with derivative\n",
    "- compare training speed and accuracy with and without softmax at the last layer\n"
   ]
  },
  {
   "cell_type": "code",
   "execution_count": 1,
   "metadata": {},
   "outputs": [],
   "source": [
    "from MultiLayerPerceptron import NeuralNetwork, Layer\n",
    "import pandas as pd"
   ]
  },
  {
   "cell_type": "markdown",
   "metadata": {},
   "source": [
    "## Dataset 1: rings3-regular"
   ]
  },
  {
   "cell_type": "code",
   "execution_count": 30,
   "metadata": {},
   "outputs": [
    {
     "name": "stdout",
     "output_type": "stream",
     "text": [
      "           x          y  c\n",
      "0 -38.564909  36.552799  2\n",
      "1  57.976468  10.875187  1\n",
      "2  12.842310  75.301701  1\n",
      "3  23.052674  24.002605  0\n",
      "4 -94.687082 -42.398002  0\n"
     ]
    }
   ],
   "source": [
    "df_train = pd.read_csv('data/classification/rings3-regular-training.csv')\n",
    "df_test = pd.read_csv('data/classification/rings3-regular-test.csv')\n",
    "print(df_test.head())\n",
    "\n",
    "x_train = df_train.loc[:,df_train.columns!='c'].to_numpy().tolist()\n",
    "y_train = df_train.loc[:,df_train.columns=='c'].to_numpy().tolist()\n",
    "x_test = df_train.loc[:,df_train.columns!='c'].to_numpy().tolist()\n",
    "y_test = df_train.loc[:,df_train.columns=='c'].to_numpy().tolist()"
   ]
  },
  {
   "cell_type": "markdown",
   "metadata": {},
   "source": [
    "#### Model 1 - without softmax"
   ]
  },
  {
   "cell_type": "code",
   "execution_count": null,
   "metadata": {},
   "outputs": [],
   "source": []
  },
  {
   "cell_type": "markdown",
   "metadata": {},
   "source": [
    "#### Model 2 - with softmax"
   ]
  },
  {
   "cell_type": "code",
   "execution_count": null,
   "metadata": {},
   "outputs": [],
   "source": []
  },
  {
   "cell_type": "markdown",
   "metadata": {},
   "source": [
    "## Dataset 2: easy"
   ]
  },
  {
   "cell_type": "code",
   "execution_count": 31,
   "metadata": {},
   "outputs": [
    {
     "name": "stdout",
     "output_type": "stream",
     "text": [
      "           x          y      c\n",
      "0  88.836312  35.105689   True\n",
      "1   8.454690  57.210448  False\n",
      "2 -57.221426  29.312467  False\n",
      "3 -11.922723 -88.264355   True\n",
      "4   8.885765   6.605795   True\n"
     ]
    }
   ],
   "source": [
    "df_train = pd.read_csv('data/classification/easy-training.csv')\n",
    "df_test = pd.read_csv('data/classification/easy-test.csv')\n",
    "print(df_test.head())\n",
    "\n",
    "x_train = df_train.loc[:,df_train.columns!='c'].to_numpy().tolist()\n",
    "y_train = df_train.loc[:,df_train.columns=='c'].to_numpy().tolist()\n",
    "x_test = df_train.loc[:,df_train.columns!='c'].to_numpy().tolist()\n",
    "y_test = df_train.loc[:,df_train.columns=='c'].to_numpy().tolist()"
   ]
  },
  {
   "cell_type": "markdown",
   "metadata": {},
   "source": [
    "#### Model 1 - without softmax"
   ]
  },
  {
   "cell_type": "code",
   "execution_count": null,
   "metadata": {},
   "outputs": [],
   "source": []
  },
  {
   "cell_type": "markdown",
   "metadata": {},
   "source": [
    "#### Model 2 - with softmax"
   ]
  },
  {
   "cell_type": "code",
   "execution_count": null,
   "metadata": {},
   "outputs": [],
   "source": []
  },
  {
   "cell_type": "markdown",
   "metadata": {},
   "source": [
    "## Dataset 3: xor3"
   ]
  },
  {
   "cell_type": "code",
   "execution_count": 32,
   "metadata": {},
   "outputs": [
    {
     "name": "stdout",
     "output_type": "stream",
     "text": [
      "           x          y  c\n",
      "0  36.973203 -55.586985  0\n",
      "1  39.495972  78.216447  0\n",
      "2  78.443533  77.156005  0\n",
      "3   9.559384  -6.161679  0\n",
      "4  42.216651  48.249953  0\n"
     ]
    }
   ],
   "source": [
    "df_train = pd.read_csv('data/classification/xor3-training.csv')\n",
    "df_test = pd.read_csv('data/classification/xor3-test.csv')\n",
    "print(df_test.head())\n",
    "\n",
    "x_train = df_train.loc[:,df_train.columns!='c'].to_numpy().tolist()\n",
    "y_train = df_train.loc[:,df_train.columns=='c'].to_numpy().tolist()\n",
    "x_test = df_train.loc[:,df_train.columns!='c'].to_numpy().tolist()\n",
    "y_test = df_train.loc[:,df_train.columns=='c'].to_numpy().tolist()"
   ]
  },
  {
   "cell_type": "markdown",
   "metadata": {},
   "source": [
    "#### Model 1 - without softmax"
   ]
  },
  {
   "cell_type": "code",
   "execution_count": null,
   "metadata": {},
   "outputs": [],
   "source": []
  },
  {
   "cell_type": "markdown",
   "metadata": {},
   "source": [
    "#### Model 2 - with softmax"
   ]
  },
  {
   "cell_type": "code",
   "execution_count": null,
   "metadata": {},
   "outputs": [],
   "source": []
  },
  {
   "cell_type": "markdown",
   "metadata": {},
   "source": [
    "## Summary"
   ]
  }
 ],
 "metadata": {
  "interpreter": {
   "hash": "6553f9dcd9d8af4a6d8fef01a514c9a715cb88eedc2258fed476c62d27d9dcbf"
  },
  "kernelspec": {
   "display_name": "Python 3.9.7 ('ml')",
   "language": "python",
   "name": "python3"
  },
  "language_info": {
   "codemirror_mode": {
    "name": "ipython",
    "version": 3
   },
   "file_extension": ".py",
   "mimetype": "text/x-python",
   "name": "python",
   "nbconvert_exporter": "python",
   "pygments_lexer": "ipython3",
   "version": "3.9.7"
  },
  "orig_nbformat": 4
 },
 "nbformat": 4,
 "nbformat_minor": 2
}
