{
 "cells": [
  {
   "cell_type": "markdown",
   "metadata": {},
   "source": [
    "# Tests for backpropagation implementation"
   ]
  },
  {
   "cell_type": "markdown",
   "metadata": {},
   "source": [
    "### Simple linear test"
   ]
  },
  {
   "cell_type": "code",
   "execution_count": 1,
   "metadata": {},
   "outputs": [
    {
     "name": "stdout",
     "output_type": "stream",
     "text": [
      "Epoch:    1/90,   MSE train:    4.168\n",
      "Epoch:   10/90,   MSE train:    1.787\n",
      "Epoch:   19/90,   MSE train:    0.506\n",
      "Epoch:   28/90,   MSE train:    0.104\n",
      "Epoch:   37/90,   MSE train:    0.018\n",
      "Epoch:   46/90,   MSE train:    0.003\n",
      "Epoch:   55/90,   MSE train:      0.0\n",
      "Epoch:   64/90,   MSE train:      0.0\n",
      "Epoch:   73/90,   MSE train:      0.0\n",
      "Epoch:   82/90,   MSE train:      0.0\n",
      "Epoch:   90/90,   MSE train:      0.0\n"
     ]
    },
    {
     "data": {
      "text/plain": [
       "[[1.9997005239502403], [3.9994010479004807]]"
      ]
     },
     "execution_count": 1,
     "metadata": {},
     "output_type": "execute_result"
    }
   ],
   "source": [
    "from MultiLayerPerceptron import NeuralNetwork, Layer\n",
    "import numpy as np\n",
    "net = NeuralNetwork(weights_random=True)\n",
    "net.add(Layer(neurons_count=1, add_bias=False))\n",
    "net.add(Layer(neurons_count=1, add_bias=False, activation_fun='linear'))\n",
    "net.add(Layer(neurons_count=1, add_bias=False, activation_fun='linear'))\n",
    "# print(net)\n",
    "net.train([[1],[2]],[[2],[4]],epochs=90,learning_rate=0.01, verbose=False)\n",
    "net.predict([[1],[2]]) # around 2 and 4"
   ]
  },
  {
   "cell_type": "code",
   "execution_count": 2,
   "metadata": {},
   "outputs": [
    {
     "data": {
      "image/png": "[encoded data removed]",
      "text/plain": [
       "<Figure size 432x288 with 1 Axes>"
      ]
     },
     "metadata": {
      "needs_background": "light"
     },
     "output_type": "display_data"
    }
   ],
   "source": [
    "net.plot_training_history()"
   ]
  },
  {
   "cell_type": "markdown",
   "metadata": {},
   "source": [
    "### Simple sigmoid test"
   ]
  },
  {
   "cell_type": "code",
   "execution_count": 3,
   "metadata": {},
   "outputs": [
    {
     "name": "stdout",
     "output_type": "stream",
     "text": [
      "Epoch:    1/1000,   MSE train:    1.216\n",
      "Epoch:  101/1000,   MSE train:    0.017\n",
      "Epoch:  201/1000,   MSE train:    0.009\n",
      "Epoch:  301/1000,   MSE train:    0.007\n",
      "Epoch:  401/1000,   MSE train:    0.005\n",
      "Epoch:  501/1000,   MSE train:    0.004\n",
      "Epoch:  601/1000,   MSE train:    0.003\n",
      "Epoch:  701/1000,   MSE train:    0.002\n",
      "Epoch:  801/1000,   MSE train:    0.002\n",
      "Epoch:  901/1000,   MSE train:    0.002\n",
      "Epoch: 1000/1000,   MSE train:    0.001\n"
     ]
    },
    {
     "data": {
      "text/plain": [
       "[[-0.645409292363082], [-0.9718404160374768]]"
      ]
     },
     "execution_count": 3,
     "metadata": {},
     "output_type": "execute_result"
    }
   ],
   "source": [
    "from MultiLayerPerceptron import NeuralNetwork, Layer\n",
    "import numpy as np\n",
    "net = NeuralNetwork(weights_random=True)\n",
    "net.add(Layer(neurons_count=1, add_bias=False))\n",
    "net.add(Layer(neurons_count=1, add_bias=False, activation_fun='sigmoid'))\n",
    "net.add(Layer(neurons_count=1, add_bias=False, activation_fun='linear'))\n",
    "# print(net)\n",
    "\n",
    "net.train([[0],[1]],[[-0.6],[-1]],epochs=1000,learning_rate=0.1, verbose=False)\n",
    "net.predict([[0],[1]]) # around -0.6 and -1"
   ]
  },
  {
   "cell_type": "markdown",
   "metadata": {},
   "source": [
    "### 2 layers sigmoid test"
   ]
  },
  {
   "cell_type": "code",
   "execution_count": 11,
   "metadata": {},
   "outputs": [
    {
     "name": "stdout",
     "output_type": "stream",
     "text": [
      "Epoch:    1/10000,   MSE train:   11.594\n",
      "Epoch: 1001/10000,   MSE train:    0.029\n",
      "Epoch: 2001/10000,   MSE train:    0.003\n",
      "Epoch: 3001/10000,   MSE train:      0.0\n",
      "Epoch: 4001/10000,   MSE train:      0.0\n",
      "Epoch: 5001/10000,   MSE train:      0.0\n",
      "Epoch: 6001/10000,   MSE train:      0.0\n",
      "Epoch: 7001/10000,   MSE train:      0.0\n",
      "Epoch: 8001/10000,   MSE train:      0.0\n",
      "Epoch: 9001/10000,   MSE train:      0.0\n",
      "Epoch:10000/10000,   MSE train:      0.0\n"
     ]
    },
    {
     "data": {
      "text/plain": [
       "[[-0.5999971454228137, -1.2000015363396135],\n",
       " [-1.0000025816286455, -1.9999986065413093]]"
      ]
     },
     "execution_count": 11,
     "metadata": {},
     "output_type": "execute_result"
    }
   ],
   "source": [
    "from MultiLayerPerceptron import NeuralNetwork, Layer\n",
    "import numpy as np\n",
    "net = NeuralNetwork(weights_random=True)\n",
    "net.add(Layer(neurons_count=1, add_bias=False))\n",
    "net.add(Layer(neurons_count=5, add_bias=False, activation_fun='sigmoid'))\n",
    "net.add(Layer(neurons_count=5, add_bias=False, activation_fun='sigmoid'))\n",
    "net.add(Layer(neurons_count=2, add_bias=False, activation_fun='linear'))\n",
    "# print(net)\n",
    "net.train([[0],[1]],[[-0.6,-1.2],[-1,-2]],epochs=10000,learning_rate=0.1, verbose=False)\n",
    "net.predict([[0],[1]]) # around [-0.6,-1.2] and [-1,-2]"
   ]
  },
  {
   "cell_type": "markdown",
   "metadata": {},
   "source": [
    "### bias in input layer"
   ]
  },
  {
   "cell_type": "code",
   "execution_count": 5,
   "metadata": {},
   "outputs": [
    {
     "name": "stdout",
     "output_type": "stream",
     "text": [
      "Epoch:    1/1000,   MSE train:   11.975\n",
      "Epoch:  101/1000,   MSE train:    0.006\n",
      "Epoch:  201/1000,   MSE train:    0.004\n",
      "Epoch:  301/1000,   MSE train:    0.003\n",
      "Epoch:  401/1000,   MSE train:    0.002\n",
      "Epoch:  501/1000,   MSE train:    0.002\n",
      "Epoch:  601/1000,   MSE train:    0.001\n",
      "Epoch:  701/1000,   MSE train:    0.001\n",
      "Epoch:  801/1000,   MSE train:    0.001\n",
      "Epoch:  901/1000,   MSE train:      0.0\n",
      "Epoch: 1000/1000,   MSE train:      0.0\n"
     ]
    },
    {
     "data": {
      "text/plain": [
       "[[3.02058897859262], [4.987401082736016]]"
      ]
     },
     "execution_count": 5,
     "metadata": {},
     "output_type": "execute_result"
    }
   ],
   "source": [
    "from MultiLayerPerceptron import NeuralNetwork, Layer\n",
    "import numpy as np\n",
    "net = NeuralNetwork(weights_random=True)\n",
    "net.add(Layer(neurons_count=1, add_bias=True))\n",
    "net.add(Layer(neurons_count=1, add_bias=False, activation_fun='linear'))\n",
    "net.add(Layer(neurons_count=1, add_bias=False, activation_fun='linear'))\n",
    "# print(net)\n",
    "net.train([[1],[2]],[[3],[5]],epochs=1000,learning_rate=0.01, verbose=False)\n",
    "net.predict([[1],[2]]) # around 3 and 5"
   ]
  },
  {
   "cell_type": "markdown",
   "metadata": {},
   "source": [
    "### bias in hidden layer"
   ]
  },
  {
   "cell_type": "code",
   "execution_count": 6,
   "metadata": {},
   "outputs": [
    {
     "name": "stdout",
     "output_type": "stream",
     "text": [
      "Epoch:    1/1000,   MSE train:   10.453\n",
      "Epoch:  101/1000,   MSE train:    0.071\n",
      "Epoch:  201/1000,   MSE train:    0.024\n",
      "Epoch:  301/1000,   MSE train:    0.007\n",
      "Epoch:  401/1000,   MSE train:    0.002\n",
      "Epoch:  501/1000,   MSE train:    0.001\n",
      "Epoch:  601/1000,   MSE train:      0.0\n",
      "Epoch:  701/1000,   MSE train:      0.0\n",
      "Epoch:  801/1000,   MSE train:      0.0\n",
      "Epoch:  901/1000,   MSE train:      0.0\n",
      "Epoch: 1000/1000,   MSE train:      0.0\n"
     ]
    },
    {
     "data": {
      "text/plain": [
       "[[3.0009749580014518], [4.999421671049355]]"
      ]
     },
     "execution_count": 6,
     "metadata": {},
     "output_type": "execute_result"
    }
   ],
   "source": [
    "from MultiLayerPerceptron import NeuralNetwork, Layer\n",
    "import numpy as np\n",
    "net = NeuralNetwork(weights_random=True)\n",
    "net.add(Layer(neurons_count=1, add_bias=True))\n",
    "net.add(Layer(neurons_count=1, add_bias=True, activation_fun='linear'))\n",
    "net.add(Layer(neurons_count=1, add_bias=False, activation_fun='linear'))\n",
    "# net.set_weights([np.array([[1], [0.5]]),np.array([[1.],[0.5]])])\n",
    "# print(net)\n",
    "\n",
    "net.train([[1],[2]],[[3],[5]],epochs=1000,learning_rate=0.03, verbose=False)\n",
    "net.predict([[1],[2]]) # around 3 and 5"
   ]
  },
  {
   "cell_type": "markdown",
   "metadata": {},
   "source": [
    "### multiple layers with bias"
   ]
  },
  {
   "cell_type": "code",
   "execution_count": 7,
   "metadata": {},
   "outputs": [
    {
     "name": "stdout",
     "output_type": "stream",
     "text": [
      "Epoch:    1/1000,   MSE train:18590.109\n",
      "Epoch:  101/1000,   MSE train:    9.384\n",
      "Epoch:  201/1000,   MSE train:    2.206\n",
      "Epoch:  301/1000,   MSE train:    0.496\n",
      "Epoch:  401/1000,   MSE train:    0.108\n",
      "Epoch:  501/1000,   MSE train:    0.023\n",
      "Epoch:  601/1000,   MSE train:    0.005\n",
      "Epoch:  701/1000,   MSE train:    0.001\n",
      "Epoch:  801/1000,   MSE train:      0.0\n",
      "Epoch:  901/1000,   MSE train:      0.0\n",
      "Epoch: 1000/1000,   MSE train:      0.0\n"
     ]
    },
    {
     "data": {
      "text/plain": [
       "[[103.99593316191982], [204.0020045596167]]"
      ]
     },
     "execution_count": 7,
     "metadata": {},
     "output_type": "execute_result"
    }
   ],
   "source": [
    "from MultiLayerPerceptron import NeuralNetwork, Layer\n",
    "import numpy as np\n",
    "\n",
    "net =  NeuralNetwork()\n",
    "net.add(Layer(neurons_count=2, add_bias=True))\n",
    "net.add(Layer(neurons_count=3, activation_fun=\"linear\", add_bias=False))\n",
    "net.add(Layer(neurons_count=3, activation_fun=\"linear\", add_bias=True))\n",
    "net.add(Layer(neurons_count=5, activation_fun=\"linear\", add_bias=False))\n",
    "net.add(Layer(neurons_count=1, activation_fun=\"linear\", add_bias=False))\n",
    "\n",
    "x_train = [[1,2],[3,4]]\n",
    "y_train = [[104],[204]]\n",
    "\n",
    "net.train(x_train,y_train,epochs=1000,learning_rate=0.0001,verbose=False)\n",
    "\n",
    "net.predict(x_train) # around 104 and 204"
   ]
  },
  {
   "cell_type": "markdown",
   "metadata": {},
   "source": [
    "### batch size"
   ]
  },
  {
   "cell_type": "code",
   "execution_count": 17,
   "metadata": {},
   "outputs": [
    {
     "name": "stdout",
     "output_type": "stream",
     "text": [
      "Epoch:    1/300,   MSE train:     61.5,   MSE test:   67.898\n",
      "Epoch:   31/300,   MSE train:    0.838,   MSE test:    0.712\n",
      "Epoch:   61/300,   MSE train:    0.551,   MSE test:    0.468\n",
      "Epoch:   91/300,   MSE train:    0.347,   MSE test:    0.295\n",
      "Epoch:  121/300,   MSE train:    0.211,   MSE test:    0.179\n",
      "Epoch:  151/300,   MSE train:    0.123,   MSE test:    0.105\n",
      "Epoch:  181/300,   MSE train:     0.07,   MSE test:    0.059\n",
      "Epoch:  211/300,   MSE train:    0.038,   MSE test:    0.033\n",
      "Epoch:  241/300,   MSE train:    0.021,   MSE test:    0.018\n",
      "Epoch:  271/300,   MSE train:    0.011,   MSE test:    0.009\n",
      "Epoch:  300/300,   MSE train:    0.006,   MSE test:    0.005\n"
     ]
    },
    {
     "data": {
      "text/plain": [
       "[[6.872605356628442], [45.217180437150304]]"
      ]
     },
     "execution_count": 17,
     "metadata": {},
     "output_type": "execute_result"
    }
   ],
   "source": [
    "from MultiLayerPerceptron import NeuralNetwork, Layer\n",
    "import numpy as np\n",
    "net = NeuralNetwork(weights_random=True)\n",
    "net.add(Layer(neurons_count=1, add_bias=True))\n",
    "net.add(Layer(neurons_count=3, add_bias=True, activation_fun='linear'))\n",
    "net.add(Layer(neurons_count=3, add_bias=True, activation_fun='linear'))\n",
    "net.add(Layer(neurons_count=1, add_bias=False, activation_fun='linear'))\n",
    "# print(net)\n",
    "X = [[i] for i in range(10)]\n",
    "Y = [[2*i+5] for i in range(10)]\n",
    "\n",
    "X2 = [[i+0.5] for i in range(10)]\n",
    "Y2 = [[2*(i+0.5)+5] for i in range(10)]\n",
    "\n",
    "net.train(X,Y,X2,Y2,epochs=300,learning_rate=0.001, verbose=False,batch_size=4,debug=False)\n",
    "net.predict([[1],[20]]) # around 7 and 45"
   ]
  }
 ],
 "metadata": {
  "interpreter": {
   "hash": "6553f9dcd9d8af4a6d8fef01a514c9a715cb88eedc2258fed476c62d27d9dcbf"
  },
  "kernelspec": {
   "display_name": "Python 3.9.7 ('ml')",
   "language": "python",
   "name": "python3"
  },
  "language_info": {
   "codemirror_mode": {
    "name": "ipython",
    "version": 3
   },
   "file_extension": ".py",
   "mimetype": "text/x-python",
   "name": "python",
   "nbconvert_exporter": "python",
   "pygments_lexer": "ipython3",
   "version": "3.9.7"
  },
  "orig_nbformat": 4
 },
 "nbformat": 4,
 "nbformat_minor": 2
}
