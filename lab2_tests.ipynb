{
 "cells": [
  {
   "cell_type": "markdown",
   "metadata": {},
   "source": [
    "# Tests for backpropagation implementation"
   ]
  },
  {
   "cell_type": "markdown",
   "metadata": {},
   "source": [
    "### Simple linear test"
   ]
  },
  {
   "cell_type": "code",
   "execution_count": 1,
   "metadata": {},
   "outputs": [
    {
     "data": {
      "text/plain": [
       "[[1.999508431406833], [3.999016862813666]]"
      ]
     },
     "execution_count": 1,
     "metadata": {},
     "output_type": "execute_result"
    }
   ],
   "source": [
    "from MultiLayerPerceptron import NeuralNetwork, Layer\n",
    "import numpy as np\n",
    "net = NeuralNetwork(weights_random=True)\n",
    "net.add(Layer(neurons_count=1, add_bias=False))\n",
    "net.add(Layer(neurons_count=1, add_bias=False, activation_fun='linear'))\n",
    "net.add(Layer(neurons_count=1, add_bias=False, activation_fun='linear'))\n",
    "# print(net)\n",
    "net.train([[1],[2]],[[2],[4]],epochs=90,learning_rate=0.01, verbose=False)\n",
    "net.predict([[1],[2]]) # around 2 and 4"
   ]
  },
  {
   "cell_type": "markdown",
   "metadata": {},
   "source": [
    "### Simple sigmoid test"
   ]
  },
  {
   "cell_type": "code",
   "execution_count": 2,
   "metadata": {},
   "outputs": [
    {
     "data": {
      "text/plain": [
       "[[-0.6259834897008009], [-0.9842805633731951]]"
      ]
     },
     "execution_count": 2,
     "metadata": {},
     "output_type": "execute_result"
    }
   ],
   "source": [
    "from MultiLayerPerceptron import NeuralNetwork, Layer\n",
    "import numpy as np\n",
    "net = NeuralNetwork(weights_random=True)\n",
    "net.add(Layer(neurons_count=1, add_bias=False))\n",
    "net.add(Layer(neurons_count=1, add_bias=False, activation_fun='sigmoid'))\n",
    "net.add(Layer(neurons_count=1, add_bias=False, activation_fun='linear'))\n",
    "# print(net)\n",
    "\n",
    "net.train([[0],[1]],[[-0.6],[-1]],epochs=1000,learning_rate=0.1, verbose=False)\n",
    "net.predict([[0],[1]]) # around -0.6 and -1"
   ]
  },
  {
   "cell_type": "markdown",
   "metadata": {},
   "source": [
    "### 2 layers sigmoid test"
   ]
  },
  {
   "cell_type": "code",
   "execution_count": 3,
   "metadata": {},
   "outputs": [
    {
     "data": {
      "text/plain": [
       "[[-0.6008038319308392, -1.199613180563612],\n",
       " [-0.9993276777613077, -2.000323587960324]]"
      ]
     },
     "execution_count": 3,
     "metadata": {},
     "output_type": "execute_result"
    }
   ],
   "source": [
    "from MultiLayerPerceptron import NeuralNetwork, Layer\n",
    "import numpy as np\n",
    "net = NeuralNetwork(weights_random=True)\n",
    "net.add(Layer(neurons_count=1, add_bias=False))\n",
    "net.add(Layer(neurons_count=5, add_bias=False, activation_fun='sigmoid'))\n",
    "net.add(Layer(neurons_count=5, add_bias=False, activation_fun='sigmoid'))\n",
    "net.add(Layer(neurons_count=2, add_bias=False, activation_fun='linear'))\n",
    "# print(net)\n",
    "net.train([[0],[1]],[[-0.6,-1.2],[-1,-2]],epochs=10000,learning_rate=0.1, verbose=False)\n",
    "net.predict([[0],[1]]) # around [-0.6,-1.2] and [-1,-2]"
   ]
  },
  {
   "cell_type": "markdown",
   "metadata": {},
   "source": [
    "### bias in input layer"
   ]
  },
  {
   "cell_type": "code",
   "execution_count": 4,
   "metadata": {},
   "outputs": [
    {
     "data": {
      "text/plain": [
       "[[3.0572897682268003], [4.96466019036583]]"
      ]
     },
     "execution_count": 4,
     "metadata": {},
     "output_type": "execute_result"
    }
   ],
   "source": [
    "from MultiLayerPerceptron import NeuralNetwork, Layer\n",
    "import numpy as np\n",
    "net = NeuralNetwork(weights_random=True)\n",
    "net.add(Layer(neurons_count=1, add_bias=True))\n",
    "net.add(Layer(neurons_count=1, add_bias=False, activation_fun='linear'))\n",
    "net.add(Layer(neurons_count=1, add_bias=False, activation_fun='linear'))\n",
    "# print(net)\n",
    "net.train([[1],[2]],[[3],[5]],epochs=1000,learning_rate=0.01, verbose=False)\n",
    "net.predict([[1],[2]]) # around 3 and 5"
   ]
  },
  {
   "cell_type": "markdown",
   "metadata": {},
   "source": [
    "### bias in hidden layer"
   ]
  },
  {
   "cell_type": "code",
   "execution_count": 5,
   "metadata": {},
   "outputs": [
    {
     "data": {
      "text/plain": [
       "[[3.000367495039241], [4.999777676737002]]"
      ]
     },
     "execution_count": 5,
     "metadata": {},
     "output_type": "execute_result"
    }
   ],
   "source": [
    "from MultiLayerPerceptron import NeuralNetwork, Layer\n",
    "import numpy as np\n",
    "net = NeuralNetwork(weights_random=True)\n",
    "net.add(Layer(neurons_count=1, add_bias=True))\n",
    "net.add(Layer(neurons_count=1, add_bias=True, activation_fun='linear'))\n",
    "net.add(Layer(neurons_count=1, add_bias=False, activation_fun='linear'))\n",
    "# net.set_weights([np.array([[1], [0.5]]),np.array([[1.],[0.5]])])\n",
    "# print(net)\n",
    "\n",
    "net.train([[1],[2]],[[3],[5]],epochs=1000,learning_rate=0.03, verbose=False)\n",
    "net.predict([[1],[2]]) # around 3 and 5"
   ]
  },
  {
   "cell_type": "markdown",
   "metadata": {},
   "source": [
    "### multiple layers with bias"
   ]
  },
  {
   "cell_type": "code",
   "execution_count": 6,
   "metadata": {},
   "outputs": [
    {
     "data": {
      "text/plain": [
       "[[103.98721624115146], [204.00632743654137]]"
      ]
     },
     "execution_count": 6,
     "metadata": {},
     "output_type": "execute_result"
    }
   ],
   "source": [
    "from MultiLayerPerceptron import NeuralNetwork, Layer\n",
    "import numpy as np\n",
    "\n",
    "net =  NeuralNetwork()\n",
    "net.add(Layer(neurons_count=2, add_bias=True))\n",
    "net.add(Layer(neurons_count=3, activation_fun=\"linear\", add_bias=False))\n",
    "net.add(Layer(neurons_count=3, activation_fun=\"linear\", add_bias=True))\n",
    "net.add(Layer(neurons_count=5, activation_fun=\"linear\", add_bias=False))\n",
    "net.add(Layer(neurons_count=1, activation_fun=\"linear\", add_bias=False))\n",
    "\n",
    "x_train = [[1,2],[3,4]]\n",
    "y_train = [[104],[204]]\n",
    "\n",
    "net.train(x_train,y_train,epochs=1000,learning_rate=0.0001,verbose=False)\n",
    "\n",
    "net.predict(x_train) # around 104 and 204"
   ]
  },
  {
   "cell_type": "markdown",
   "metadata": {},
   "source": [
    "### batch size"
   ]
  },
  {
   "cell_type": "code",
   "execution_count": 3,
   "metadata": {},
   "outputs": [
    {
     "data": {
      "text/plain": [
       "[[5.6922187068902605], [47.99116792607437]]"
      ]
     },
     "execution_count": 3,
     "metadata": {},
     "output_type": "execute_result"
    }
   ],
   "source": [
    "from MultiLayerPerceptron import NeuralNetwork, Layer\n",
    "import numpy as np\n",
    "net = NeuralNetwork(weights_random=True)\n",
    "net.add(Layer(neurons_count=1, add_bias=True))\n",
    "net.add(Layer(neurons_count=3, add_bias=True, activation_fun='linear'))\n",
    "net.add(Layer(neurons_count=3, add_bias=True, activation_fun='linear'))\n",
    "net.add(Layer(neurons_count=1, add_bias=False, activation_fun='linear'))\n",
    "# print(net)\n",
    "X = [[i] for i in range(10)]\n",
    "Y = [[2*i+5] for i in range(10)]\n",
    "\n",
    "X2 = [[i+0.5] for i in range(10)]\n",
    "Y2 = [[2*(i+0.5)+5] for i in range(10)]\n",
    "\n",
    "net.train(X,Y,X2,Y2,epochs=40,learning_rate=0.0001, verbose=False,batch_size=3,debug=False)\n",
    "net.predict([[1],[20]]) # around 7 and 45"
   ]
  },
  {
   "cell_type": "code",
   "execution_count": 4,
   "metadata": {},
   "outputs": [
    {
     "data": {
      "image/png": "[encoded data removed]",
      "text/plain": [
       "<Figure size 432x288 with 1 Axes>"
      ]
     },
     "metadata": {
      "needs_background": "light"
     },
     "output_type": "display_data"
    }
   ],
   "source": [
    "net.plot_training_history()"
   ]
  }
 ],
 "metadata": {
  "interpreter": {
   "hash": "6553f9dcd9d8af4a6d8fef01a514c9a715cb88eedc2258fed476c62d27d9dcbf"
  },
  "kernelspec": {
   "display_name": "Python 3.9.7 ('ml')",
   "language": "python",
   "name": "python3"
  },
  "language_info": {
   "codemirror_mode": {
    "name": "ipython",
    "version": 3
   },
   "file_extension": ".py",
   "mimetype": "text/x-python",
   "name": "python",
   "nbconvert_exporter": "python",
   "pygments_lexer": "ipython3",
   "version": "3.9.7"
  },
  "orig_nbformat": 4
 },
 "nbformat": 4,
 "nbformat_minor": 2
}
