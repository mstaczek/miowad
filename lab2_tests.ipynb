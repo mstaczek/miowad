{
 "cells": [
  {
   "cell_type": "markdown",
   "metadata": {},
   "source": [
    "# Tests for backpropagation implementation"
   ]
  },
  {
   "cell_type": "markdown",
   "metadata": {},
   "source": [
    "### Simple linear test"
   ]
  },
  {
   "cell_type": "code",
   "execution_count": 27,
   "metadata": {},
   "outputs": [
    {
     "data": {
      "text/plain": [
       "[[1.995825555319305], [3.99165111063861]]"
      ]
     },
     "execution_count": 27,
     "metadata": {},
     "output_type": "execute_result"
    }
   ],
   "source": [
    "from MultiLayerPerceptron import NeuralNetwork, Layer\n",
    "import numpy as np\n",
    "net = NeuralNetwork(weights_random=True)\n",
    "net.add(Layer(neurons_count=1, add_bias=False))\n",
    "net.add(Layer(neurons_count=1, add_bias=False, activation_fun='linear'))\n",
    "net.add(Layer(neurons_count=1, add_bias=False, activation_fun='linear'))\n",
    "# print(net)\n",
    "net.train([[1],[2]],[[2],[4]],epochs=90,learning_rate=0.01, verbose=False)\n",
    "net.predict([[1],[2]]) # around 2 and 4"
   ]
  },
  {
   "cell_type": "markdown",
   "metadata": {},
   "source": [
    "### Simple sigmoid test"
   ]
  },
  {
   "cell_type": "code",
   "execution_count": 28,
   "metadata": {},
   "outputs": [
    {
     "data": {
      "text/plain": [
       "[[-0.634685951208351], [-0.9787750235611513]]"
      ]
     },
     "execution_count": 28,
     "metadata": {},
     "output_type": "execute_result"
    }
   ],
   "source": [
    "from MultiLayerPerceptron import NeuralNetwork, Layer\n",
    "import numpy as np\n",
    "net = NeuralNetwork(weights_random=True)\n",
    "net.add(Layer(neurons_count=1, add_bias=False))\n",
    "net.add(Layer(neurons_count=1, add_bias=False, activation_fun='sigmoid'))\n",
    "net.add(Layer(neurons_count=1, add_bias=False, activation_fun='linear'))\n",
    "# print(net)\n",
    "\n",
    "net.train([[0],[1]],[[-0.6],[-1]],epochs=1000,learning_rate=0.1, verbose=False)\n",
    "net.predict([[0],[1]]) # around -0.6 and -1"
   ]
  },
  {
   "cell_type": "markdown",
   "metadata": {},
   "source": [
    "### 2 layers sigmoid test"
   ]
  },
  {
   "cell_type": "code",
   "execution_count": 29,
   "metadata": {},
   "outputs": [
    {
     "data": {
      "text/plain": [
       "[[-0.600012500947174, -1.1999937136482324],\n",
       " [-0.9999896462683034, -2.0000051955836904]]"
      ]
     },
     "execution_count": 29,
     "metadata": {},
     "output_type": "execute_result"
    }
   ],
   "source": [
    "from MultiLayerPerceptron import NeuralNetwork, Layer\n",
    "import numpy as np\n",
    "net = NeuralNetwork(weights_random=True)\n",
    "net.add(Layer(neurons_count=1, add_bias=False))\n",
    "net.add(Layer(neurons_count=5, add_bias=False, activation_fun='sigmoid'))\n",
    "net.add(Layer(neurons_count=5, add_bias=False, activation_fun='sigmoid'))\n",
    "net.add(Layer(neurons_count=2, add_bias=False, activation_fun='linear'))\n",
    "# print(net)\n",
    "net.train([[0],[1]],[[-0.6,-1.2],[-1,-2]],epochs=10000,learning_rate=0.1, verbose=False)\n",
    "net.predict([[0],[1]]) # around [-0.6,-1.2] and [-1,-2]"
   ]
  },
  {
   "cell_type": "markdown",
   "metadata": {},
   "source": [
    "### bias in input layer"
   ]
  },
  {
   "cell_type": "code",
   "execution_count": 30,
   "metadata": {},
   "outputs": [
    {
     "data": {
      "text/plain": [
       "[[3.0158151160652613], [4.990344405090823]]"
      ]
     },
     "execution_count": 30,
     "metadata": {},
     "output_type": "execute_result"
    }
   ],
   "source": [
    "from MultiLayerPerceptron import NeuralNetwork, Layer\n",
    "import numpy as np\n",
    "net = NeuralNetwork(weights_random=True)\n",
    "net.add(Layer(neurons_count=1, add_bias=True))\n",
    "net.add(Layer(neurons_count=1, add_bias=False, activation_fun='linear'))\n",
    "net.add(Layer(neurons_count=1, add_bias=False, activation_fun='linear'))\n",
    "# print(net)\n",
    "net.train([[1],[2]],[[3],[5]],epochs=1000,learning_rate=0.01, verbose=False)\n",
    "net.predict([[1],[2]]) # around 3 and 5"
   ]
  },
  {
   "cell_type": "markdown",
   "metadata": {},
   "source": [
    "### bias in hidden layer"
   ]
  },
  {
   "cell_type": "code",
   "execution_count": 31,
   "metadata": {},
   "outputs": [
    {
     "data": {
      "text/plain": [
       "[[3.0008246551586684], [4.999502945322646]]"
      ]
     },
     "execution_count": 31,
     "metadata": {},
     "output_type": "execute_result"
    }
   ],
   "source": [
    "from MultiLayerPerceptron import NeuralNetwork, Layer\n",
    "import numpy as np\n",
    "net = NeuralNetwork(weights_random=True)\n",
    "net.add(Layer(neurons_count=1, add_bias=True))\n",
    "net.add(Layer(neurons_count=1, add_bias=True, activation_fun='linear'))\n",
    "net.add(Layer(neurons_count=1, add_bias=False, activation_fun='linear'))\n",
    "# net.set_weights([np.array([[1], [0.5]]),np.array([[1.],[0.5]])])\n",
    "# print(net)\n",
    "\n",
    "net.train([[1],[2]],[[3],[5]],epochs=1000,learning_rate=0.03, verbose=False)\n",
    "net.predict([[1],[2]]) # around 3 and 5"
   ]
  },
  {
   "cell_type": "markdown",
   "metadata": {},
   "source": [
    "### multiple layers with bias"
   ]
  },
  {
   "cell_type": "code",
   "execution_count": 32,
   "metadata": {},
   "outputs": [
    {
     "data": {
      "text/plain": [
       "[[104.00265435753518], [203.99868104756098]]"
      ]
     },
     "execution_count": 32,
     "metadata": {},
     "output_type": "execute_result"
    }
   ],
   "source": [
    "from MultiLayerPerceptron import NeuralNetwork, Layer\n",
    "import numpy as np\n",
    "\n",
    "net =  NeuralNetwork()\n",
    "net.add(Layer(neurons_count=2, add_bias=True))\n",
    "net.add(Layer(neurons_count=3, activation_fun=\"linear\", add_bias=False))\n",
    "net.add(Layer(neurons_count=3, activation_fun=\"linear\", add_bias=True))\n",
    "net.add(Layer(neurons_count=5, activation_fun=\"linear\", add_bias=False))\n",
    "net.add(Layer(neurons_count=1, activation_fun=\"linear\", add_bias=False))\n",
    "\n",
    "x_train = [[1,2],[3,4]]\n",
    "y_train = [[104],[204]]\n",
    "\n",
    "net.train(x_train,y_train,epochs=1000,learning_rate=0.0001,verbose=False)\n",
    "\n",
    "net.predict(x_train) # around 104 and 204"
   ]
  }
 ],
 "metadata": {
  "interpreter": {
   "hash": "6553f9dcd9d8af4a6d8fef01a514c9a715cb88eedc2258fed476c62d27d9dcbf"
  },
  "kernelspec": {
   "display_name": "Python 3.9.7 ('ml')",
   "language": "python",
   "name": "python3"
  },
  "language_info": {
   "codemirror_mode": {
    "name": "ipython",
    "version": 3
   },
   "file_extension": ".py",
   "mimetype": "text/x-python",
   "name": "python",
   "nbconvert_exporter": "python",
   "pygments_lexer": "ipython3",
   "version": "3.9.7"
  },
  "orig_nbformat": 4
 },
 "nbformat": 4,
 "nbformat_minor": 2
}
