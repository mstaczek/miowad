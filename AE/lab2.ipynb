{
 "cells": [
  {
   "cell_type": "markdown",
   "metadata": {},
   "source": [
    "## Lab 10_11: AE2: Wypełnianie koła prostokątami (2 tygodnie, 6 punktów, uwaga na podział punktów na terminy!!)\n",
    "\n",
    "Rozwiązać wariant problemu znanego w literaturze jako cutting stock problem.\n",
    "\n",
    "Mamy dane koło o promieniu r oraz zbiór dostępnych prostokątów zadanych przez trzy liczby: wysokość, szerokość i wartość. Celem jest ułożenie prostokątów w kole tak, aby zmaksymalizować sumę ich wartości, spełniając następujące warunki:  \n",
    "- boki wszystkich prostokątów były równoległe do osi układu,  \n",
    "- wnętrza prostokątów nie miały części wspólnej (intuicyjnie: prostokąty nie nachodzą na siebie, ale mogą się stykać bokami),  \n",
    "- każdy prostokąt można wstawić dowolnie wiele razy.  \n",
    "\n",
    "Zaproponować:\n",
    "- kodowanie problemu, \n",
    "- operator mutacji, \n",
    "- krzyżowania  \n",
    "\n",
    "oraz zaimplementować algorytm genetyczny rozwiązujący powyższy problem.\n",
    "\n",
    "Przetestować rozwiązanie na danych dostarczonych w folderze `data/cutting`. Struktura pliku: w nazwie pliku jest podany promień koła, plik jest w formacie csv: \n",
    "- pierwsza kolumna to szerokość prostokąta, \n",
    "- druga to wysokość, \n",
    "- trzecia to wartość prostokąta."
   ]
  },
  {
   "cell_type": "markdown",
   "metadata": {},
   "source": [
    "## TODO:\n",
    "- present the proposed solution\n",
    "- implement genome encoding\n",
    "- implement mutation operator\n",
    "- implement crossover operator\n",
    "- implement fitness function\n",
    "- implement a genetic algorithm"
   ]
  },
  {
   "cell_type": "markdown",
   "metadata": {},
   "source": [
    "## Proposed solution\n",
    "\n",
    "Given a list of rectangle IDs, the fitness function will create columns of maximum height, one for each rectangle ID. Size of each column will be such, that the width is the same as the rectangle width and height will be computed assuming that each column will be right next to the previous one and in the first column there will be only 1 rectangle."
   ]
  },
  {
   "cell_type": "markdown",
   "metadata": {},
   "source": [
    "### Genome encoding\n",
    "\n",
    "A list of integers of varying length representing the rectangle IDs. The length of the list is the number of columns in the final solution. Maximum length of the list is the maximum number of columns calculated by using circle diameter and the smallest rectangle."
   ]
  },
  {
   "cell_type": "markdown",
   "metadata": {},
   "source": [
    "### Fitness function\n",
    "\n",
    "If at least 1 rectangle is placed in each column, the fitness function will return the sum of the rectangle values.\n",
    "\n",
    "Otherwise, the fitness function will return the sum of the rectangle values that are placed at least once in the circle minus the sum of the rectangle values that are not placed in the column (1 for each ID)."
   ]
  },
  {
   "cell_type": "markdown",
   "metadata": {},
   "source": [
    "### Mutation operator\n",
    "\n",
    "#### Add a column of rectangles\n",
    "\n",
    "Select random place in the genome and add a rectangle ID to the list of IDs, not necessarily at the end.\n",
    "\n",
    "Probability of adding a rectangle ID is higher if sum of column widths is much smaller than the circle diameter.\n",
    "\n",
    "Probability of adding a rectangle ID is lower if sum of column widths is close to or greater than the circle diameter.\n",
    "\n",
    "#### Remove a column of rectangle\n",
    "\n",
    "Select random ID from the list of IDs (genome) and remove it. This will effectively remove the whole column made of rectangles with the selected ID.\n",
    " \n",
    "Probability of removing a rectangle ID is higher if sum of column widths is greater than the circle diameter.\n",
    "\n",
    "Probability of removing a rectangle ID is lower if sum of column widths is close to or smaller than the circle diameter.\n"
   ]
  },
  {
   "cell_type": "markdown",
   "metadata": {},
   "source": [
    "### Crossover operator\n",
    "\n",
    "Single point crossover between two genomes. Each is a list of integers representing the rectangle IDs."
   ]
  },
  {
   "cell_type": "markdown",
   "metadata": {},
   "source": [
    "### Population creation\n",
    "\n",
    "The population is a list of genomes. Each genome is a list of integers representing the rectangle IDs. Each genome will be created by first choosing a random number of columns and then choosing random IDs from the list of IDs. \n",
    "\n",
    "Before selecting next ID, a sum of column widths is calculated. The next ID is selected from the list of rectangle IDs that added to the sum of column widths would not make it than the circle diameter."
   ]
  },
  {
   "cell_type": "markdown",
   "metadata": {},
   "source": []
  }
 ],
 "metadata": {
  "language_info": {
   "name": "python"
  },
  "orig_nbformat": 4
 },
 "nbformat": 4,
 "nbformat_minor": 2
}
