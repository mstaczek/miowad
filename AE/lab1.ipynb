{
 "cells": [
  {
   "cell_type": "markdown",
   "metadata": {},
   "source": [
    "## Lab 9: AE1: Implementacja algorytmu genetycznego – opt. f-cji kwadratowej w R3 (1 tydzień, bez punktów)  \n",
    "\n",
    "Napisać podstawowy algorytm genetyczny z mutacją gaussowską i krzyżowaniem jednopunktowym.  \n",
    "\n",
    "Sprawdzić działanie algorytmu na funkcji $x^2+y^2+2z^2$ oraz na pięciowymiarowej funkcji Rastrigina.\n",
    "\n",
    "## TODO:\n",
    "- ~~implement basic genetic algorithm with gaussian mutation and single-point crossover~~\n",
    "- ~~check if the algorithm works on the function $x^2+y^2+2z^2$~~\n",
    "- ~~check if the algorithm works on the five-dimensional Rastrigin function~~\n"
   ]
  },
  {
   "cell_type": "code",
   "execution_count": 1,
   "metadata": {},
   "outputs": [],
   "source": [
    "import numpy as np\n",
    "import math"
   ]
  },
  {
   "cell_type": "markdown",
   "metadata": {},
   "source": [
    "## Initializing population"
   ]
  },
  {
   "cell_type": "code",
   "execution_count": 2,
   "metadata": {},
   "outputs": [],
   "source": [
    "def initialize_population(size,boundary,dim):\n",
    "    return np.random.uniform(boundary[0],boundary[1],size=(size,dim))"
   ]
  },
  {
   "cell_type": "code",
   "execution_count": 3,
   "metadata": {},
   "outputs": [
    {
     "name": "stdout",
     "output_type": "stream",
     "text": [
      "Initial population:\n",
      "[[ 9.58308636 -9.68959281 -8.37144159]\n",
      " [ 2.12338217  9.21290923 -2.01994409]\n",
      " [-5.15707127 -2.78870841 -7.20024515]\n",
      " [ 4.77208986  4.11407305  3.61558381]\n",
      " [-1.19134742  7.81456896  7.16569482]\n",
      " [ 2.11692907  1.61087502 -7.62833013]\n",
      " [ 4.14394721  7.46818068  9.5560016 ]]\n"
     ]
    }
   ],
   "source": [
    "population_size = 7\n",
    "boundary = [-10,10]\n",
    "population = initialize_population(size=population_size,boundary=boundary, dim=3)\n",
    "print(\"Initial population:\")\n",
    "print(population)"
   ]
  },
  {
   "cell_type": "markdown",
   "metadata": {},
   "source": [
    "## Single point crossover"
   ]
  },
  {
   "cell_type": "code",
   "execution_count": 4,
   "metadata": {},
   "outputs": [],
   "source": [
    "def crossover(population):\n",
    "    def cross_single(parent1,parent2):\n",
    "        cross_point = np.random.randint(1,3)\n",
    "        return np.vstack((np.hstack((parent1[:cross_point], parent2[cross_point:])),\n",
    "                        np.hstack((parent2[:cross_point], parent1[cross_point:]))))\n",
    "\n",
    "    def cross_single_vect(pop):\n",
    "        return np.vstack([cross_single(parent1,parent2) for parent1,parent2 in zip(pop[::2],pop[1::2])])\n",
    "\n",
    "    selected_pairs_ids =  np.repeat(np.random.uniform(0,1,size=(math.floor(population_size/2),1)) > 0.3,2)\n",
    "    population[:len(selected_pairs_ids)][selected_pairs_ids]  = cross_single_vect(population[:len(selected_pairs_ids)][selected_pairs_ids])\n",
    "    return population"
   ]
  },
  {
   "cell_type": "code",
   "execution_count": 5,
   "metadata": {},
   "outputs": [
    {
     "name": "stdout",
     "output_type": "stream",
     "text": [
      "Befor crossover:\n",
      "[[ 9.58308636 -9.68959281 -8.37144159]\n",
      " [ 2.12338217  9.21290923 -2.01994409]\n",
      " [-5.15707127 -2.78870841 -7.20024515]\n",
      " [ 4.77208986  4.11407305  3.61558381]\n",
      " [-1.19134742  7.81456896  7.16569482]\n",
      " [ 2.11692907  1.61087502 -7.62833013]\n",
      " [ 4.14394721  7.46818068  9.5560016 ]]\n",
      "After crossover:\n",
      "[[ 9.58308636  9.21290923 -2.01994409]\n",
      " [ 2.12338217 -9.68959281 -8.37144159]\n",
      " [-5.15707127 -2.78870841 -7.20024515]\n",
      " [ 4.77208986  4.11407305  3.61558381]\n",
      " [-1.19134742  1.61087502 -7.62833013]\n",
      " [ 2.11692907  7.81456896  7.16569482]\n",
      " [ 4.14394721  7.46818068  9.5560016 ]]\n"
     ]
    }
   ],
   "source": [
    "print(\"Befor crossover:\")\n",
    "print(population)\n",
    "print(\"After crossover:\")\n",
    "print(crossover(population))"
   ]
  },
  {
   "cell_type": "markdown",
   "metadata": {},
   "source": [
    "## Gaussian mutation"
   ]
  },
  {
   "cell_type": "code",
   "execution_count": 6,
   "metadata": {},
   "outputs": [],
   "source": [
    "def mutate(population):\n",
    "    return population + np.random.normal(0,1,size=population.shape) * (np.random.uniform(0,1,size=population_size) > 0.8).reshape((-1,1))"
   ]
  },
  {
   "cell_type": "code",
   "execution_count": 7,
   "metadata": {},
   "outputs": [
    {
     "name": "stdout",
     "output_type": "stream",
     "text": [
      "Befor mutation:\n",
      "[[ 9.58308636  9.21290923 -2.01994409]\n",
      " [ 2.12338217 -9.68959281 -8.37144159]\n",
      " [-5.15707127 -2.78870841 -7.20024515]\n",
      " [ 4.77208986  4.11407305  3.61558381]\n",
      " [-1.19134742  1.61087502 -7.62833013]\n",
      " [ 2.11692907  7.81456896  7.16569482]\n",
      " [ 4.14394721  7.46818068  9.5560016 ]]\n",
      "After mutation:\n",
      "[[ 9.58308636  9.21290923 -2.01994409]\n",
      " [ 2.12338217 -9.68959281 -8.37144159]\n",
      " [-5.15707127 -2.78870841 -7.20024515]\n",
      " [ 5.30464072  4.15778741  3.56572655]\n",
      " [-1.19134742  1.61087502 -7.62833013]\n",
      " [ 2.11692907  7.81456896  7.16569482]\n",
      " [ 4.14394721  7.46818068  9.5560016 ]]\n"
     ]
    }
   ],
   "source": [
    "print(\"Befor mutation:\")\n",
    "print(population)\n",
    "print(\"After mutation:\")\n",
    "print(mutate(population))"
   ]
  },
  {
   "cell_type": "markdown",
   "metadata": {},
   "source": [
    "## Fitness function for the first function"
   ]
  },
  {
   "cell_type": "code",
   "execution_count": 8,
   "metadata": {},
   "outputs": [],
   "source": [
    "def evaluate(population):\n",
    "    return population[:,0]**2 + population[:,1]**2 + 2 * population[:,2]**2"
   ]
  },
  {
   "cell_type": "code",
   "execution_count": 9,
   "metadata": {},
   "outputs": [
    {
     "name": "stdout",
     "output_type": "stream",
     "text": [
      "Scores:\n",
      "[184.87358897 238.55902909 138.05933896  65.84333116 120.39706821\n",
      " 168.24324115 255.58035434]\n"
     ]
    }
   ],
   "source": [
    "scores = evaluate(population)\n",
    "print(\"Scores:\")\n",
    "print(scores)"
   ]
  },
  {
   "cell_type": "markdown",
   "metadata": {},
   "source": [
    "## Tournament"
   ]
  },
  {
   "cell_type": "code",
   "execution_count": 10,
   "metadata": {},
   "outputs": [
    {
     "name": "stdout",
     "output_type": "stream",
     "text": [
      "Selected before tournament:\n",
      "[4 6 1 4 3 5 6]\n",
      "Selected after tournament:\n",
      "[2 6 1 0 2 6 6]\n"
     ]
    }
   ],
   "source": [
    "tournament_size = 3\n",
    "selected = np.random.choice(population_size,size=population_size,replace=True)\n",
    "print(\"Selected before tournament:\")\n",
    "print(selected)\n",
    "for i,selected_id in enumerate(selected):\n",
    "    for new_id in np.random.choice(population_size,size=tournament_size,replace=True):\n",
    "        if scores[selected_id] < scores[new_id]:\n",
    "            selected[i] = new_id\n",
    "print(\"Selected after tournament:\")\n",
    "print(selected)"
   ]
  },
  {
   "cell_type": "code",
   "execution_count": 11,
   "metadata": {},
   "outputs": [],
   "source": [
    "def tournament(population,scores,tournament_size):\n",
    "    selected = np.random.choice(population_size,size=population_size,replace=True)\n",
    "    for i,selected_id in enumerate(selected):\n",
    "        for new_id in np.random.choice(population_size,size=tournament_size,replace=True):\n",
    "            if scores[selected_id] > scores[new_id]:\n",
    "                selected[i] = new_id\n",
    "    return population[selected]"
   ]
  },
  {
   "cell_type": "code",
   "execution_count": 12,
   "metadata": {},
   "outputs": [
    {
     "name": "stdout",
     "output_type": "stream",
     "text": [
      "Population before tournament:\n",
      "[[ 9.58308636  9.21290923 -2.01994409]\n",
      " [ 2.12338217 -9.68959281 -8.37144159]\n",
      " [-5.15707127 -2.78870841 -7.20024515]\n",
      " [ 4.77208986  4.11407305  3.61558381]\n",
      " [-1.19134742  1.61087502 -7.62833013]\n",
      " [ 2.11692907  7.81456896  7.16569482]\n",
      " [ 4.14394721  7.46818068  9.5560016 ]]\n",
      "Population after tournament:\n",
      "[[-1.19134742  1.61087502 -7.62833013]\n",
      " [ 4.77208986  4.11407305  3.61558381]\n",
      " [ 4.77208986  4.11407305  3.61558381]\n",
      " [-1.19134742  1.61087502 -7.62833013]\n",
      " [-5.15707127 -2.78870841 -7.20024515]\n",
      " [-1.19134742  1.61087502 -7.62833013]\n",
      " [ 4.77208986  4.11407305  3.61558381]]\n"
     ]
    }
   ],
   "source": [
    "print(\"Population before tournament:\")\n",
    "print(population)\n",
    "tournament_size = 3\n",
    "print(\"Population after tournament:\")\n",
    "print(tournament(population,scores,tournament_size))"
   ]
  },
  {
   "cell_type": "markdown",
   "metadata": {},
   "source": [
    "## Relocating population points inside the search space"
   ]
  },
  {
   "cell_type": "code",
   "execution_count": 13,
   "metadata": {},
   "outputs": [],
   "source": [
    "def fix_boundary(population, boundary):\n",
    "    population[population < boundary[0]] = boundary[0]\n",
    "    population[population > boundary[1]] = boundary[1]\n",
    "    return population"
   ]
  },
  {
   "cell_type": "markdown",
   "metadata": {},
   "source": [
    "## All together - a simple function\n",
    "\n",
    "with minimum in (0,0,0) of value 0"
   ]
  },
  {
   "cell_type": "code",
   "execution_count": 14,
   "metadata": {},
   "outputs": [
    {
     "name": "stdout",
     "output_type": "stream",
     "text": [
      "Epoch 0: 3.3700325813972585\n",
      "Epoch 10: 0.11737606447973176\n",
      "Epoch 20: 0.024078430690029264\n",
      "Epoch 30: 0.024078430690029264\n",
      "Epoch 40: 0.024078430690029264\n",
      "Epoch 50: 0.022247699376973976\n",
      "Epoch 60: 0.022247699376973976\n",
      "Epoch 70: 0.013612070889368087\n",
      "Epoch 80: 0.013082485557263176\n",
      "Epoch 90: 0.006153815659791922\n",
      "Best solution: [ 0.01292287 -0.07704735 -0.00502601]\n"
     ]
    },
    {
     "data": {
      "image/png": "[encoded data removed]",
      "text/plain": [
       "<Figure size 432x288 with 1 Axes>"
      ]
     },
     "metadata": {
      "needs_background": "light"
     },
     "output_type": "display_data"
    }
   ],
   "source": [
    "population_size = 100\n",
    "tournament_size = 3\n",
    "boundary = [-10,10]\n",
    "epochs = 100\n",
    "dim=3\n",
    "\n",
    "population = initialize_population(size=population_size,boundary=boundary,dim=dim)\n",
    "best_solution, best_score = 0, evaluate(population[0].reshape((1,-1)))\n",
    "best_scores_history = []\n",
    "for epoch in range(epochs):\n",
    "    population = crossover(population)\n",
    "    population = mutate(population)\n",
    "    population = fix_boundary(population,boundary)\n",
    "    scores = evaluate(population)\n",
    "    best_solution, best_score = population[np.argmin(scores)], np.min(scores)\n",
    "    if epoch % 10 == 0:\n",
    "        print(f\"Epoch {epoch}: {best_score}\")\n",
    "    best_scores_history.append(best_score)\n",
    "    population = tournament(population,scores,tournament_size)\n",
    "print(f\"Best solution: {best_solution}\")\n",
    "import matplotlib.pyplot as plt\n",
    "plt.plot(best_scores_history)\n",
    "plt.title(\"Best scores history\")\n",
    "plt.xlabel(\"Epoch\")\n",
    "plt.ylabel(\"Best score\")\n",
    "plt.show()"
   ]
  },
  {
   "cell_type": "markdown",
   "metadata": {},
   "source": [
    "## Rastrigin evaluation function"
   ]
  },
  {
   "cell_type": "code",
   "execution_count": 15,
   "metadata": {},
   "outputs": [],
   "source": [
    "def evaluation_rastrigin(x):\n",
    "    return 10 * len(x[0]) + np.sum(  x**2 - 10 * np.cos(2 * np.pi * x),axis=1)"
   ]
  },
  {
   "cell_type": "markdown",
   "metadata": {},
   "source": [
    "## Rastrigin function solution\n",
    "\n",
    "with minimum in (0,0,0,0,0) of value 0"
   ]
  },
  {
   "cell_type": "code",
   "execution_count": 16,
   "metadata": {},
   "outputs": [
    {
     "name": "stdout",
     "output_type": "stream",
     "text": [
      "Epoch 0: 38.89349285701037\n",
      "Epoch 10: 6.996798869248309\n",
      "Epoch 20: 6.430672418234337\n",
      "Epoch 30: 4.577611660225564\n",
      "Epoch 40: 4.274641323951158\n",
      "Epoch 50: 4.257715973014868\n",
      "Epoch 60: 4.052480520318255\n",
      "Epoch 70: 4.052480520318255\n",
      "Epoch 80: 3.028694017181458\n",
      "Epoch 90: 2.814707100498204\n",
      "Best solution: [ 2.60737899e-04 -2.03632519e-02  2.94352597e-02 -9.00270668e-02\n",
      "  9.93474563e-01]\n"
     ]
    },
    {
     "data": {
      "image/png": "[encoded data removed]",
      "text/plain": [
       "<Figure size 432x288 with 1 Axes>"
      ]
     },
     "metadata": {
      "needs_background": "light"
     },
     "output_type": "display_data"
    }
   ],
   "source": [
    "population_size = 500\n",
    "tournament_size = 3\n",
    "boundary = [-10,10]\n",
    "epochs = 100\n",
    "dim=5\n",
    "\n",
    "population = initialize_population(size=population_size,boundary=boundary,dim=dim)\n",
    "best_solution, best_score = 0, evaluation_rastrigin(population[0].reshape((1,-1)))\n",
    "best_scores_history = []\n",
    "for epoch in range(epochs):\n",
    "    population = crossover(population)\n",
    "    population = mutate(population)\n",
    "    population = fix_boundary(population,boundary)\n",
    "    scores = evaluation_rastrigin(population)\n",
    "    best_solution, best_score = population[np.argmin(scores)], np.min(scores)\n",
    "    if epoch % 10 == 0:\n",
    "        print(f\"Epoch {epoch}: {best_score}\")\n",
    "    best_scores_history.append(best_score)\n",
    "    population = tournament(population,scores,tournament_size)\n",
    "print(f\"Best solution: {best_solution}\")\n",
    "import matplotlib.pyplot as plt\n",
    "plt.plot(best_scores_history)\n",
    "plt.title(\"Best scores history\")\n",
    "plt.xlabel(\"Epoch\")\n",
    "plt.ylabel(\"Best score\")\n",
    "plt.show()"
   ]
  },
  {
   "cell_type": "markdown",
   "metadata": {},
   "source": [
    "# Summary\n",
    "\n",
    "Algorithm does indeed work on the function $x^2+y^2+2z^2$ and on the five-dimensional Rastrigin function."
   ]
  }
 ],
 "metadata": {
  "interpreter": {
   "hash": "c89a4b03563d0b0a697cfa266ce0c40758bbc71e7abcd812821893d93f58a607"
  },
  "kernelspec": {
   "display_name": "Python 3.9.7 ('ml')",
   "language": "python",
   "name": "python3"
  },
  "language_info": {
   "codemirror_mode": {
    "name": "ipython",
    "version": 3
   },
   "file_extension": ".py",
   "mimetype": "text/x-python",
   "name": "python",
   "nbconvert_exporter": "python",
   "pygments_lexer": "ipython3",
   "version": "3.9.7"
  },
  "orig_nbformat": 4
 },
 "nbformat": 4,
 "nbformat_minor": 2
}
