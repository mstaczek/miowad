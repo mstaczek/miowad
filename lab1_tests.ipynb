{
 "cells": [
  {
   "cell_type": "markdown",
   "metadata": {},
   "source": [
    "### Feedforward linear 2->1"
   ]
  },
  {
   "cell_type": "code",
   "execution_count": 7,
   "metadata": {
    "cell_id": "cb828058-f2ec-4874-af42-9497f2d64d12",
    "deepnote_cell_type": "code",
    "deepnote_to_be_reexecuted": false,
    "execution_millis": 43,
    "execution_start": 1646408757877,
    "source_hash": "9b245b99",
    "tags": []
   },
   "outputs": [
    {
     "name": "stdout",
     "output_type": "stream",
     "text": [
      "Neural network layers:\n",
      "\tLayer 0: Layer has 3 neurons (including 1 bias neuron) and activation function is 'linear'\n",
      "\tLayer 1: Layer has 1 neurons (with no bias neuron) and activation function is 'linear'\n",
      "Neural network weights:\n",
      "\tWeights 1: shape is (3, 1) as (input, output) where first element in each column is bias (if present)\n",
      "[[1]\n",
      " [2]\n",
      " [3]]\n",
      "\n",
      "Input [20, 300]\n",
      "expected: [941.0]\n",
      "predicted: [941.0]\n"
     ]
    }
   ],
   "source": [
    "import MultiLayerPerceptron as mlp\n",
    "import numpy as np\n",
    "# test 1\n",
    "MyNet = mlp.NeuralNetwork(weights_random = False)\n",
    "MyNet.add(mlp.Layer(neurons_count=2))\n",
    "MyNet.add(mlp.Layer(neurons_count=1,activation_fun=mlp.ActivationLinear(),add_bias=False))\n",
    "MyNet.set_weights([np.array([[1],[2],[3]])])\n",
    "print(MyNet)\n",
    "input_1 = [20,300]\n",
    "output_1 = MyNet.predict(input_1)\n",
    "output_1_expected = [941.]\n",
    "print(f\"Input {input_1}\")\n",
    "print(f\"expected: {output_1_expected}\")\n",
    "print(f\"predicted: {output_1}\")\n",
    "assert(output_1 == output_1_expected)"
   ]
  },
  {
   "cell_type": "markdown",
   "metadata": {},
   "source": [
    "### Feedforward sigmoid 2->2"
   ]
  },
  {
   "cell_type": "code",
   "execution_count": 9,
   "metadata": {
    "cell_id": "20ee8c6f-bc6e-4db0-8ebe-81d78445d224",
    "deepnote_cell_type": "code",
    "deepnote_to_be_reexecuted": false,
    "execution_millis": 258,
    "execution_start": 1646408757921,
    "source_hash": "b3ce59fc",
    "tags": []
   },
   "outputs": [
    {
     "name": "stdout",
     "output_type": "stream",
     "text": [
      "Neural network layers:\n",
      "\tLayer 0: Layer has 3 neurons (including 1 bias neuron) and activation function is 'linear'\n",
      "\tLayer 1: Layer has 2 neurons (with no bias neuron) and activation function is 'sigmoid'\n",
      "Neural network weights:\n",
      "\tWeights 1: shape is (3, 2) as (input, output) where first element in each column is bias (if present)\n",
      "[[0.69646919 0.28613933]\n",
      " [0.22685145 0.55131477]\n",
      " [0.71946897 0.42310646]]\n",
      "\n",
      "Input [10, 5]\n",
      "expected: [0.9985894000462168, 0.9996348435074591]\n",
      "predicted: [0.9985894000462168, 0.9996348435074591]\n"
     ]
    }
   ],
   "source": [
    "import MultiLayerPerceptron as mlp\n",
    "import numpy as np\n",
    "\n",
    "# test 2\n",
    "np.random.seed(123)\n",
    "MyNet = mlp.NeuralNetwork(weights_randomizer='uniform')\n",
    "MyNet.add(mlp.Layer(neurons_count=2))\n",
    "MyNet.add(mlp.Layer(neurons_count=2,activation_fun=mlp.ActivationSigmoid(),add_bias=False))\n",
    "input_1 = [10,5]\n",
    "output_1 = MyNet.predict(input_1)\n",
    "output_1_expected = [0.9985894000462168, 0.9996348435074591]\n",
    "print(MyNet)\n",
    "print(f\"Input {input_1}\")\n",
    "print(f\"expected: {output_1_expected}\")\n",
    "print(f\"predicted: {output_1}\")"
   ]
  }
 ],
 "metadata": {
  "deepnote": {
   "is_reactive": false
  },
  "deepnote_execution_queue": [],
  "deepnote_notebook_id": "a72fbcdf-0a1f-4adc-b5f3-c08a300123a8",
  "interpreter": {
   "hash": "6553f9dcd9d8af4a6d8fef01a514c9a715cb88eedc2258fed476c62d27d9dcbf"
  },
  "kernelspec": {
   "display_name": "Python 3.9.7 ('ml')",
   "language": "python",
   "name": "python3"
  },
  "language_info": {
   "codemirror_mode": {
    "name": "ipython",
    "version": 3
   },
   "file_extension": ".py",
   "mimetype": "text/x-python",
   "name": "python",
   "nbconvert_exporter": "python",
   "pygments_lexer": "ipython3",
   "version": "3.9.7"
  },
  "orig_nbformat": 2
 },
 "nbformat": 4,
 "nbformat_minor": 2
}
