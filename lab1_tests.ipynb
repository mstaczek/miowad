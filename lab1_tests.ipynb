{
 "cells": [
  {
   "cell_type": "code",
   "execution_count": 1,
   "metadata": {
    "cell_id": "26cd3a7a-909a-4209-8129-8c7a01fd0571",
    "deepnote_cell_type": "code",
    "deepnote_to_be_reexecuted": false,
    "execution_millis": 44,
    "execution_start": 1646408757832,
    "source_hash": "a3bb51a",
    "tags": []
   },
   "outputs": [],
   "source": [
    "from MultiLayerPerceptron import NeuralNetwork, Layer\n",
    "import numpy as np"
   ]
  },
  {
   "cell_type": "code",
   "execution_count": 2,
   "metadata": {
    "cell_id": "cb828058-f2ec-4874-af42-9497f2d64d12",
    "deepnote_cell_type": "code",
    "deepnote_to_be_reexecuted": false,
    "execution_millis": 43,
    "execution_start": 1646408757877,
    "source_hash": "9b245b99",
    "tags": []
   },
   "outputs": [
    {
     "name": "stdout",
     "output_type": "stream",
     "text": [
      "Neural network layers:\n",
      "\tLayer 1: Layer has 3 neurons (including 1 bias neuron) and activation function is 'linear function'\n",
      "\tLayer 2: Layer has 1 neurons (with no bias neuron) and activation function is 'linear function'\n",
      "Neural network weights:\n",
      "\tWeights 1: (3, 1) (input, output)\n",
      "[[1]\n",
      " [2]\n",
      " [3]]\n",
      "\n",
      "Input [20, 300]\n",
      "expected: [941.0]\n",
      "predicted: [941.0]\n"
     ]
    }
   ],
   "source": [
    "# test 1\n",
    "MyNet = NeuralNetwork(weights_random = False)\n",
    "MyNet.add(Layer(neurons_count=2))\n",
    "MyNet.add(Layer(neurons_count=1,activation_fun='linear',add_bias=False))\n",
    "MyNet.set_weights([np.array([[1],[2],[3]])])\n",
    "print(MyNet)\n",
    "input_1 = [20,300]\n",
    "output_1 = MyNet.predict(input_1)\n",
    "output_1_expected = [941.]\n",
    "print(f\"Input {input_1}\")\n",
    "print(f\"expected: {output_1_expected}\")\n",
    "print(f\"predicted: {output_1}\")\n",
    "assert(output_1 == output_1_expected)"
   ]
  },
  {
   "cell_type": "code",
   "execution_count": 3,
   "metadata": {
    "cell_id": "20ee8c6f-bc6e-4db0-8ebe-81d78445d224",
    "deepnote_cell_type": "code",
    "deepnote_to_be_reexecuted": false,
    "execution_millis": 258,
    "execution_start": 1646408757921,
    "source_hash": "b3ce59fc",
    "tags": []
   },
   "outputs": [
    {
     "name": "stdout",
     "output_type": "stream",
     "text": [
      "Neural network layers:\n",
      "\tLayer 1: Layer has 3 neurons (including 1 bias neuron) and activation function is 'linear function'\n",
      "\tLayer 2: Layer has 2 neurons (with no bias neuron) and activation function is 'sigmoid function'\n",
      "Neural network weights:\n",
      "\tWeights 1: (3, 2) (input, output)\n",
      "[[0.69646919 0.28613933]\n",
      " [0.22685145 0.55131477]\n",
      " [0.71946897 0.42310646]]\n",
      "\n",
      "Input [10, 5]\n",
      "expected: [0.9985894000462168, 0.9996348435074591]\n",
      "predicted: [0.9985894000462168, 0.9996348435074591]\n"
     ]
    }
   ],
   "source": [
    "from MultiLayerPerceptron import NeuralNetwork, Layer\n",
    "import numpy as np\n",
    "\n",
    "# test 2\n",
    "np.random.seed(123)\n",
    "MyNet = NeuralNetwork()\n",
    "MyNet.add(Layer(neurons_count=2))\n",
    "MyNet.add(Layer(neurons_count=2,activation_fun='sigmoid',add_bias=False))\n",
    "input_1 = [10,5]\n",
    "output_1 = MyNet.predict(input_1)\n",
    "output_1_expected = [0.9985894000462168, 0.9996348435074591]\n",
    "print(MyNet)\n",
    "print(f\"Input {input_1}\")\n",
    "print(f\"expected: {output_1_expected}\")\n",
    "print(f\"predicted: {output_1}\")"
   ]
  },
  {
   "cell_type": "markdown",
   "metadata": {
    "created_in_deepnote_cell": true,
    "deepnote_cell_type": "markdown",
    "tags": []
   },
   "source": [
    "<a style='text-decoration:none;line-height:16px;display:flex;color:#5B5B62;padding:10px;justify-content:end;' href='https://deepnote.com?utm_source=created-in-deepnote-cell&projectId=96d48dca-8d08-48ed-b693-a040059620ca' target=\"_blank\">\n",
    "<img alt='Created in deepnote.com' style='display:inline;max-height:16px;margin:0px;margin-right:7.5px;' src='data:image/svg+xml;base64,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' > </img>\n",
    "Created in <span style='font-weight:600;margin-left:4px;'>Deepnote</span></a>"
   ]
  }
 ],
 "metadata": {
  "deepnote": {
   "is_reactive": false
  },
  "deepnote_execution_queue": [],
  "deepnote_notebook_id": "a72fbcdf-0a1f-4adc-b5f3-c08a300123a8",
  "interpreter": {
   "hash": "6553f9dcd9d8af4a6d8fef01a514c9a715cb88eedc2258fed476c62d27d9dcbf"
  },
  "kernelspec": {
   "display_name": "Python 3.9.7 ('ml')",
   "language": "python",
   "name": "python3"
  },
  "language_info": {
   "codemirror_mode": {
    "name": "ipython",
    "version": 3
   },
   "file_extension": ".py",
   "mimetype": "text/x-python",
   "name": "python",
   "nbconvert_exporter": "python",
   "pygments_lexer": "ipython3",
   "version": "3.9.7"
  },
  "orig_nbformat": 2
 },
 "nbformat": 4,
 "nbformat_minor": 2
}
