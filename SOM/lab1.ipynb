{
 "cells": [
  {
   "cell_type": "markdown",
   "metadata": {},
   "source": [
    "## Lab 8: KOH1: Podstawowa sieć Kohonena (2 tygodnie, 2 punkty)\n",
    "Zaimplementować sieć Kohonena złożoną z neuronów w prostokątnej siatce `M×N` (M,N są parametrami programu), która działa dla zbioru wektorów (wszystkich o tej samej długości).\n",
    "\n",
    "Zaimplementować następujące funkcje sąsiedztwa:\n",
    "- funkcję gaussowską\n",
    "- minus druga pochodną funkcji gaussowskiej.\n",
    "\n",
    "W obu implementacjach dodać możliwość zmiany szerokości sąsiedztwa z użyciem parametru (technicznie oznacza to przemnożenie argumentu x przez stałą) i sprawdzić dla kilku wartości z przedziału Jako funkcji wygaszającą uczenie wraz z kolejnymi iteracjami użyć funkcji.\n",
    "\n",
    "Przetestować działanie sieci na dostarczonych prostych zbiorach danych:\n",
    "- danych 2d skupionych w wierzchołkach sześciokąta,\n",
    "- danych 3d skupionych w wierzchołkach sześcianu.\n",
    "\n",
    "Dane, odpowiednio hexagon i cube, mają 3/4 kolumny. Do sieci podać tylko kolumny x, y i z (w przypadku\n",
    "sześciokąta bez z). Ostatnia kolumna, c, zawiera identyfikator wierzchołka bryły/figury. Czy klastry w\n",
    "odwzorowaniu znalezionym przez sieć pokrywają się w liczbą klastrów w faktycznych danych? Czy\n",
    "znalezione klastry pokrywają się z identyfikatorami wierzchołków?"
   ]
  },
  {
   "cell_type": "code",
   "execution_count": null,
   "metadata": {},
   "outputs": [],
   "source": []
  }
 ],
 "metadata": {
  "language_info": {
   "name": "python"
  },
  "orig_nbformat": 4
 },
 "nbformat": 4,
 "nbformat_minor": 2
}
