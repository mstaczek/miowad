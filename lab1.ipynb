{
 "cells": [
  {
   "cell_type": "markdown",
   "metadata": {
    "cell_id": "44b5a607-a1d8-4c16-a169-2f19ba376a74",
    "deepnote_cell_type": "markdown",
    "tags": []
   },
   "source": [
    "# Metody Inteligencji Obliczeniowej w Analizie Danych\n",
    "\n",
    "[Tasks](https://pages.mini.pw.edu.pl/~karwowskij/mioad/lab-sieci.html)\n",
    "\n",
    "### MLP Lab 1\n",
    "\n",
    "Na tych zajęciach należy zaimplementować sieć neuronową typu MLP, w której można ustawić: liczbę warstw, liczbę neuronów w każdej z warstw i wagi poszczególnych połączeń, w tym biasów. Sieć ma **używać sigmoidalnej funkcji** aktywacji. **Na wyjściu** dopuszczana jest funkcja **liniowa**.\n",
    "\n",
    "Implementacja sieci musi być przygotowana w taki sposób, żeby łatwo zmieniać:\n",
    "\n",
    "- Architekturę, to znaczy liczbę wejść, wyjść, neuronów w warstwach ukrytych. \n",
    "- Funkcję aktywacji.  \n",
    "\n",
    "Tak przygotowaną implementację należy następnie wykorzystać do rozwiązania zadania regresji na dostarczonych danych. Parametry sieci należy dobrać ręcznie, tak aby uzyskać możliwie dobrze wyniki na zbiorach danych (zbudować po jednej sieci dla każdego zbioru):\n",
    "\n",
    "square-simple\n",
    "steps-large\n",
    "Rozważyć architektury sieci:\n",
    "\n",
    "- jedna warstwa ukryta, 5 neuronów,  \n",
    "- jedna warstwa ukryta, 10 neuronów,\n",
    "- dwie warstwy ukryte, po 5 neuronów każda.\n",
    "\n",
    "Aby otrzymać 2 punkty MSE na [nieznormalizowanym] zbiorze testowym nie może przekraczać wartości 9."
   ]
  },
  {
   "cell_type": "markdown",
   "metadata": {
    "cell_id": "01b431b8-fb3c-4683-9272-5562c201c2fd",
    "deepnote_cell_type": "markdown",
    "tags": []
   },
   "source": [
    "#### TODO:\n",
    "\n",
    "- add asserts\n",
    "- create more tests"
   ]
  },
  {
   "cell_type": "code",
   "execution_count": 1,
   "metadata": {
    "cell_id": "40602327-1c7a-43fa-ac1c-b82ee29ca269",
    "deepnote_cell_type": "code",
    "deepnote_to_be_reexecuted": false,
    "execution_millis": 0,
    "execution_start": 1646333431869,
    "source_hash": "385c81c6",
    "tags": []
   },
   "outputs": [],
   "source": [
    "from MultiLayerPerceptron import NeuralNetwork, Layer\n",
    "from itertools import chain\n",
    "import pandas as pd\n",
    "import numpy as np\n",
    "\n",
    "def mse(real, pred):\n",
    "    return np.square(np.subtract(real,pred)).mean() "
   ]
  },
  {
   "cell_type": "markdown",
   "metadata": {
    "cell_id": "a6004e85-e7d1-42fa-a537-f8274a1971c6",
    "deepnote_cell_type": "markdown",
    "tags": []
   },
   "source": [
    "## Dataset 2: Square Simple"
   ]
  },
  {
   "cell_type": "code",
   "execution_count": 2,
   "metadata": {
    "cell_id": "19ac30b4-d6eb-45f1-9938-6ed06e815fc1",
    "deepnote_cell_type": "code",
    "deepnote_to_be_reexecuted": false,
    "execution_millis": 137,
    "execution_start": 1646333431870,
    "source_hash": "84c2b957",
    "tags": []
   },
   "outputs": [
    {
     "name": "stdout",
     "output_type": "stream",
     "text": [
      "                   x           y\n",
      "Unnamed: 0                      \n",
      "1          -0.171543 -127.351580\n",
      "2           0.025201 -129.942844\n",
      "3          -1.368991   38.672367\n",
      "4           1.907390  197.432191\n",
      "5           0.011129 -129.988852\n"
     ]
    }
   ],
   "source": [
    "df_train = pd.read_csv('data/regression/square-simple-training.csv').set_index(\"Unnamed: 0\")\n",
    "df_test = pd.read_csv('data/regression/square-simple-test.csv').set_index(\"Unnamed: 0\")\n",
    "print(df_train.head())\n",
    "\n",
    "x_train = [[x] for x in df_train.loc[:,\"x\"]]\n",
    "y_train = [y for y in df_train.loc[:,\"y\"]]\n",
    "x_test = [[x] for x in df_test.loc[:,\"x\"]]\n",
    "y_test = [y for y in df_test.loc[:,\"y\"]]"
   ]
  },
  {
   "cell_type": "markdown",
   "metadata": {
    "cell_id": "70aaf871-e790-49e4-a2c0-152c9b76a8d9",
    "deepnote_cell_type": "markdown",
    "tags": []
   },
   "source": [
    "#### Model 1: 1 hidden layer with 5 neurons"
   ]
  },
  {
   "cell_type": "code",
   "execution_count": 3,
   "metadata": {
    "cell_id": "260b0f75-78ae-40e2-93ab-98e062753188",
    "deepnote_cell_type": "code",
    "deepnote_to_be_reexecuted": false,
    "execution_millis": 100,
    "execution_start": 1646333431909,
    "source_hash": "a8fd83bb",
    "tags": []
   },
   "outputs": [
    {
     "name": "stdout",
     "output_type": "stream",
     "text": [
      "Neural network layers:\n",
      "\tLayer 1: Layer has 2 neurons (including 1 bias neuron) and activation function is 'linear function'\n",
      "\tLayer 2: Layer has 6 neurons (including 1 bias neuron) and activation function is 'sigmoid function'\n",
      "\tLayer 3: Layer has 1 neurons (with no bias neuron) and activation function is 'linear function'\n",
      "Neural network weights:\n",
      "\tWeights 1: (2, 5) (input, output)\n",
      "[[-2.9    -2.8897 -2.8897 -2.8897 -2.8897]\n",
      " [-0.9733 -0.9733 -0.9733 -0.9733  0.9733]]\n",
      "\tWeights 2: (6, 1) (input, output)\n",
      "[[-339.16]\n",
      " [ 502.  ]\n",
      " [ 502.  ]\n",
      " [ 502.  ]\n",
      " [ 502.  ]\n",
      " [1993.  ]]\n",
      "\n"
     ]
    }
   ],
   "source": [
    "net1_1_5_1 = NeuralNetwork(weights_random=False)\n",
    "net1_1_5_1.add(Layer(neurons_count=1, add_bias=True))\n",
    "net1_1_5_1.add(Layer(neurons_count=5, activation_fun=\"sigmoid\", add_bias=True))\n",
    "net1_1_5_1.add(Layer(neurons_count=1, activation_fun=\"linear\", add_bias=False))\n",
    "net1_1_5_1.set_weights(weights=[\\\n",
    "        np.array([[-2.9,-2.8897,-2.8897,-2.8897,-2.8897],\\\n",
    "                [-0.9733,-0.9733,-0.9733,-0.9733,0.9733]]),\\\n",
    "        np.array([[-339.16],\\\n",
    "                [502],\\\n",
    "                [502],\\\n",
    "                [502],\\\n",
    "                [502],\\\n",
    "                [1993]])])\n",
    "print(net1_1_5_1)"
   ]
  },
  {
   "cell_type": "code",
   "execution_count": 4,
   "metadata": {
    "cell_id": "518f9ebc-61e4-45d0-9201-1d450babfc28",
    "deepnote_cell_type": "code",
    "deepnote_to_be_reexecuted": false,
    "execution_millis": 56,
    "execution_start": 1646333431953,
    "source_hash": "c8523a51",
    "tags": []
   },
   "outputs": [
    {
     "name": "stdout",
     "output_type": "stream",
     "text": [
      "MSE train is 2.46\n"
     ]
    }
   ],
   "source": [
    "y_train_pred_1 = net1_1_5_1.predict(x_train)\n",
    "y_train_pred_1 = list(chain.from_iterable(y_train_pred_1))\n",
    "mse_1_1 = mse(y_train_pred_1, y_train)\n",
    "print(f\"MSE train is {round(mse_1_1,2)}\")"
   ]
  },
  {
   "cell_type": "code",
   "execution_count": 5,
   "metadata": {
    "cell_id": "d7c3dad9-296a-40c6-8373-7cd9f3465ca0",
    "deepnote_cell_type": "code",
    "deepnote_to_be_reexecuted": false,
    "execution_millis": 56,
    "execution_start": 1646333431954,
    "source_hash": "22d6a869",
    "tags": []
   },
   "outputs": [
    {
     "name": "stdout",
     "output_type": "stream",
     "text": [
      "MSE test is 2.26\n"
     ]
    }
   ],
   "source": [
    "y_test_pred_1 = net1_1_5_1.predict(x_test)\n",
    "y_test_pred_1 = list(chain.from_iterable(y_test_pred_1))\n",
    "mse_1_2 = mse(y_test_pred_1, y_test)\n",
    "print(f\"MSE test is {round(mse_1_2,2)}\")"
   ]
  },
  {
   "cell_type": "markdown",
   "metadata": {
    "cell_id": "cee17e03-0ba4-474d-87f8-07ca14ec1a81",
    "deepnote_cell_type": "markdown",
    "tags": []
   },
   "source": [
    "#### Model 2: 1 hidden layer with 10 neurons"
   ]
  },
  {
   "cell_type": "code",
   "execution_count": 6,
   "metadata": {
    "cell_id": "234df347-bfe1-4376-9da0-71429a538d00",
    "deepnote_cell_type": "code",
    "deepnote_to_be_reexecuted": false,
    "execution_millis": 15,
    "execution_start": 1646333431996,
    "source_hash": "6fdb2faa",
    "tags": []
   },
   "outputs": [
    {
     "name": "stdout",
     "output_type": "stream",
     "text": [
      "Neural network layers:\n",
      "\tLayer 1: Layer has 2 neurons (including 1 bias neuron) and activation function is 'linear function'\n",
      "\tLayer 2: Layer has 11 neurons (including 1 bias neuron) and activation function is 'sigmoid function'\n",
      "\tLayer 3: Layer has 1 neurons (with no bias neuron) and activation function is 'linear function'\n",
      "Neural network weights:\n",
      "\tWeights 1: (2, 10) (input, output)\n",
      "[[-2.8897 -2.8897 -2.8897 -2.8897 -2.8897 -2.8897 -2.8897 -2.8897 -2.8897\n",
      "  -2.8897]\n",
      " [-0.9733 -0.9733 -0.9733 -0.9733 -0.9733  0.9733  0.9733  0.9733  0.9733\n",
      "   0.9733]]\n",
      "\tWeights 2: (11, 1) (input, output)\n",
      "[[-339.3]\n",
      " [ 400. ]\n",
      " [ 400. ]\n",
      " [ 400. ]\n",
      " [ 400. ]\n",
      " [ 400. ]\n",
      " [ 400. ]\n",
      " [ 400. ]\n",
      " [ 400. ]\n",
      " [ 400. ]\n",
      " [ 400. ]]\n",
      "\n"
     ]
    }
   ],
   "source": [
    "net2_1_10_1 = NeuralNetwork(weights_random=False)\n",
    "net2_1_10_1.add(Layer(neurons_count=1, add_bias=True))\n",
    "net2_1_10_1.add(Layer(neurons_count=10, activation_fun=\"sigmoid\", add_bias=True))\n",
    "net2_1_10_1.add(Layer(neurons_count=1, activation_fun=\"linear\", add_bias=False))\n",
    "net2_1_10_1.set_weights(weights=[\\\n",
    "        np.array([[-2.8897,-2.8897,-2.8897,-2.8897,-2.8897,-2.8897,-2.8897,-2.8897,-2.8897,-2.8897],\\\n",
    "                [-0.9733,-0.9733,-0.9733,-0.9733,-0.9733,0.9733,0.9733,0.9733,0.9733,0.9733]]),\\\n",
    "        np.array([[-339.3],\\\n",
    "                [400],\\\n",
    "                [400],\\\n",
    "                [400],\\\n",
    "                [400],\\\n",
    "                [400],\\\n",
    "                [400],\\\n",
    "                [400],\\\n",
    "                [400],\\\n",
    "                [400],\\\n",
    "                [400]])])\n",
    "print(net2_1_10_1)"
   ]
  },
  {
   "cell_type": "code",
   "execution_count": 7,
   "metadata": {
    "cell_id": "8fcf969e-423e-4fb6-a4a2-d18c1f5940e1",
    "deepnote_cell_type": "code",
    "deepnote_to_be_reexecuted": false,
    "execution_millis": 43,
    "execution_start": 1646333431998,
    "source_hash": "2a575812",
    "tags": []
   },
   "outputs": [
    {
     "name": "stdout",
     "output_type": "stream",
     "text": [
      "MSE train is 3.11\n"
     ]
    }
   ],
   "source": [
    "y_train_pred_2 = net2_1_10_1.predict(x_train)\n",
    "y_train_pred_2 = list(chain.from_iterable(y_train_pred_2))\n",
    "mse_1_2 = mse(y_train_pred_2, y_train)\n",
    "print(f\"MSE train is {round(mse_1_2,2)}\")"
   ]
  },
  {
   "cell_type": "code",
   "execution_count": 8,
   "metadata": {
    "cell_id": "a389a052-d24a-4d60-a86c-9baae466a34c",
    "deepnote_cell_type": "code",
    "deepnote_to_be_reexecuted": false,
    "execution_millis": 56,
    "execution_start": 1646333432040,
    "source_hash": "1a7566a5",
    "tags": []
   },
   "outputs": [
    {
     "name": "stdout",
     "output_type": "stream",
     "text": [
      "MSE test is 2.63\n"
     ]
    }
   ],
   "source": [
    "y_test_pred_2 = net2_1_10_1.predict(x_test)\n",
    "y_test_pred_2 = list(chain.from_iterable(y_test_pred_2))\n",
    "mse_1_2 = mse(y_test_pred_2, y_test)\n",
    "print(f\"MSE test is {round(mse_1_2,2)}\")"
   ]
  },
  {
   "cell_type": "markdown",
   "metadata": {
    "cell_id": "6cb1b0f3-8904-428b-8397-18c9bfcfe5f8",
    "deepnote_cell_type": "markdown",
    "tags": []
   },
   "source": [
    "## Dataset 2: Steps Large"
   ]
  },
  {
   "cell_type": "code",
   "execution_count": 9,
   "metadata": {
    "cell_id": "1fd127d0-1098-4fd1-8ed2-c5413b8b99e1",
    "deepnote_cell_type": "code",
    "deepnote_to_be_reexecuted": false,
    "execution_millis": 54,
    "execution_start": 1646333432095,
    "source_hash": "752dcdd6",
    "tags": []
   },
   "outputs": [
    {
     "name": "stdout",
     "output_type": "stream",
     "text": [
      "                   x   y\n",
      "Unnamed: 0              \n",
      "1          -1.481354 -80\n",
      "2           1.033264  80\n",
      "3          -0.076403   0\n",
      "4          -1.419785 -80\n",
      "5          -0.108398   0\n"
     ]
    }
   ],
   "source": [
    "df_train = pd.read_csv('data/regression/steps-large-training.csv').set_index(\"Unnamed: 0\")\n",
    "df_test = pd.read_csv('data/regression/steps-large-test.csv').set_index(\"Unnamed: 0\")\n",
    "print(df_train.head())\n",
    "\n",
    "x_train = [[x] for x in df_train.loc[:,\"x\"]]\n",
    "y_train = [y for y in df_train.loc[:,\"y\"]]\n",
    "x_test = [[x] for x in df_test.loc[:,\"x\"]]\n",
    "y_test = [y for y in df_test.loc[:,\"y\"]]"
   ]
  },
  {
   "cell_type": "markdown",
   "metadata": {
    "cell_id": "5d3fea08-a7fb-4600-af3a-498efb926fc2",
    "deepnote_cell_type": "markdown",
    "tags": []
   },
   "source": [
    "#### Model 1: 2 hidden layers with 5 neurons each"
   ]
  },
  {
   "cell_type": "code",
   "execution_count": 10,
   "metadata": {
    "cell_id": "a5f7d55f-9b62-45cf-91a3-d344462aeae1",
    "deepnote_cell_type": "code",
    "deepnote_to_be_reexecuted": false,
    "execution_millis": 44,
    "execution_start": 1646333432144,
    "source_hash": "a779e47a",
    "tags": []
   },
   "outputs": [
    {
     "name": "stdout",
     "output_type": "stream",
     "text": [
      "Neural network layers:\n",
      "\tLayer 1: Layer has 2 neurons (including 1 bias neuron) and activation function is 'linear function'\n",
      "\tLayer 2: Layer has 6 neurons (including 1 bias neuron) and activation function is 'sigmoid function'\n",
      "\tLayer 3: Layer has 1 neurons (with no bias neuron) and activation function is 'linear function'\n",
      "Neural network weights:\n",
      "\tWeights 1: (2, 5) (input, output)\n",
      "[[-250.   -750.   -750.    250.    250.  ]\n",
      " [ 501.    499.95  499.95  500.2   500.2 ]]\n",
      "\tWeights 2: (6, 1) (input, output)\n",
      "[[-80]\n",
      " [ 80]\n",
      " [ 40]\n",
      " [ 40]\n",
      " [ 40]\n",
      " [ 40]]\n",
      "\n"
     ]
    }
   ],
   "source": [
    "net3_1_5_1 = NeuralNetwork()\n",
    "net3_1_5_1.add(Layer(neurons_count=1, add_bias=True))\n",
    "net3_1_5_1.add(Layer(neurons_count=5, activation_fun='sigmoid', add_bias=True))\n",
    "net3_1_5_1.add(Layer(neurons_count=1, activation_fun='linear', add_bias=False))\n",
    "\n",
    "b = -250\n",
    "a = 500\n",
    "c = -80\n",
    "d = 80\n",
    "e = 80/2\n",
    "\n",
    "net3_1_5_1.set_weights([\\\n",
    "        np.array([[-250,-750,-750,250,250],\\\n",
    "                [501,499.95,499.95,500.2,500.2]]),\\\n",
    "        np.array([[-80],\\\n",
    "                [80],\\\n",
    "                [40],\\\n",
    "                [40],\\\n",
    "                [40],\\\n",
    "                [40]])])\n",
    "print(net3_1_5_1)"
   ]
  },
  {
   "cell_type": "code",
   "execution_count": 11,
   "metadata": {
    "cell_id": "0a59fef5-2a8a-4b02-bf54-0a15c0642f22",
    "deepnote_cell_type": "code",
    "deepnote_to_be_reexecuted": false,
    "execution_millis": 1206,
    "execution_start": 1646333432188,
    "source_hash": "ad950854",
    "tags": []
   },
   "outputs": [
    {
     "name": "stdout",
     "output_type": "stream",
     "text": [
      "MSE train is 4.14\n"
     ]
    }
   ],
   "source": [
    "y_train_pred_2 = net3_1_5_1.predict(x_train)\n",
    "y_train_pred_2 = list(chain.from_iterable(y_train_pred_2))\n",
    "mse_1_2 = mse(y_train_pred_2, y_train)\n",
    "print(f\"MSE train is {round(mse_1_2,2)}\")"
   ]
  },
  {
   "cell_type": "code",
   "execution_count": 12,
   "metadata": {
    "cell_id": "d8ce1367-5fee-4278-9578-ea9ab5ec8534",
    "deepnote_cell_type": "code",
    "deepnote_to_be_reexecuted": false,
    "execution_millis": 173,
    "execution_start": 1646333433385,
    "source_hash": "1ece4d2c",
    "tags": []
   },
   "outputs": [
    {
     "name": "stdout",
     "output_type": "stream",
     "text": [
      "MSE test is 3.58\n"
     ]
    }
   ],
   "source": [
    "y_test_pred_2 = net3_1_5_1.predict(x_test)\n",
    "y_test_pred_2 = list(chain.from_iterable(y_test_pred_2))\n",
    "mse_1_2 = mse(y_test_pred_2, y_test)\n",
    "print(f\"MSE test is {round(mse_1_2,2)}\")"
   ]
  },
  {
   "cell_type": "markdown",
   "metadata": {
    "cell_id": "7213c921-8251-4443-bf67-0809a98035b3",
    "deepnote_cell_type": "markdown",
    "tags": []
   },
   "source": [
    "#### Results\n",
    "\n",
    "MSE for the `square simple` dataset is:  \n",
    "- train: 2.46\n",
    "- test: 2.26\n",
    "\n",
    "MSE for the `steps large` dataset is:  \n",
    "- train: 4.14\n",
    "- test: 3.58\n"
   ]
  }
 ],
 "metadata": {
  "deepnote": {
   "is_reactive": false
  },
  "deepnote_execution_queue": [],
  "deepnote_notebook_id": "b5b4072f-fbbd-41fa-be8b-1159e9f083c9",
  "interpreter": {
   "hash": "6553f9dcd9d8af4a6d8fef01a514c9a715cb88eedc2258fed476c62d27d9dcbf"
  },
  "kernelspec": {
   "display_name": "Python 3.9.7 ('ml')",
   "language": "python",
   "name": "python3"
  },
  "language_info": {
   "codemirror_mode": {
    "name": "ipython",
    "version": 3
   },
   "file_extension": ".py",
   "mimetype": "text/x-python",
   "name": "python",
   "nbconvert_exporter": "python",
   "pygments_lexer": "ipython3",
   "version": "3.9.7"
  },
  "orig_nbformat": 2
 },
 "nbformat": 4,
 "nbformat_minor": 2
}
