{
 "cells": [
  {
   "cell_type": "markdown",
   "metadata": {},
   "source": [
    "# Metody Inteligencji Obliczeniowej w Analizie Danych\n",
    "\n",
    "[Tasks](https://pages.mini.pw.edu.pl/~karwowskij/mioad/lab-sieci.html)\n",
    "\n",
    "### Lab 6: NN6: Zjawisko przeuczenia + regularyzacja (brak punktów za zadanie, sprawozdanie po tymtygodniu)\n",
    "\n",
    "Zaimplementować mechanizm regularyzacji wag w sieci oraz mechanizm zatrzymywania uczenia przy wzroście błędu na zbiorze walidacyjnym.\n",
    "\n",
    "Przeprowadzić eksperymenty na zbiorach i porównać skuteczność na zbiorze testowym dla różnych wariantów przeciwdziałania przeuczeniu sieci:\n",
    "- multimodal-sparse,\n",
    "- rings5-sparse,\n",
    "- rings3-balance,\n",
    "- xor3-balance."
   ]
  },
  {
   "cell_type": "markdown",
   "metadata": {},
   "source": [
    "## TODO:\n",
    "- implement regularization L1\n",
    "- implement regularization L2\n",
    "- add support for validation set\n",
    "- implement early stopping when validation error increases\n",
    "- test L1 and L2 regularizations on all 4 datasets and compare results on test set"
   ]
  },
  {
   "cell_type": "code",
   "execution_count": 2,
   "metadata": {},
   "outputs": [],
   "source": [
    "import MultiLayerPerceptron as mlp\n",
    "import pandas as pd\n",
    "import numpy as np\n",
    "import seaborn as sns\n",
    "from matplotlib import pyplot as plt"
   ]
  },
  {
   "cell_type": "code",
   "execution_count": 4,
   "metadata": {},
   "outputs": [],
   "source": [
    "def plot_compare_predicted_real(net, x_train,y_train,x_test,y_test):\n",
    "    xmin = min(x_train+ x_test)[0] *1.1\n",
    "    xmax = max(x_train+ x_test)[0] *1.1\n",
    "\n",
    "    fig1, ax = plt.subplots()\n",
    "\n",
    "    ax.scatter(x_train, y_train, color=\"green\",label=\"real y\")\n",
    "    ax.scatter(x_train, net.predict(x_train), color=\"red\",label=\"predicted y\")\n",
    "    ax.legend()\n",
    "    ax.set_xlabel(\"X\")\n",
    "    ax.set_ylabel(\"Y\")\n",
    "    plt.title(\"real vs predicted y - train data\")\n",
    "    ax.set_xlim(xmin, xmax)\n",
    "    plt.show()\n",
    "\n",
    "    fig1, ax = plt.subplots()\n",
    "    ax.scatter(x_test, y_test, color=\"green\",label=\"real y\")\n",
    "    ax.scatter(x_test, net.predict(x_test), color=\"red\",label=\"predicted y\")\n",
    "    ax.legend()\n",
    "    ax.set_xlabel(\"X\")\n",
    "    ax.set_ylabel(\"Y\")\n",
    "    plt.title(\"real vs predicted y - test data\")\n",
    "    plt.show()\n",
    "\n",
    "def plot_good_vs_bad_predictions(network, x_test, y_test):\n",
    "    pred_class = np.argmax(network.predict(x_test), axis=1)\n",
    "    real_class = np.array(y_test).argmax(axis=1)\n",
    "    is_good_prediction = real_class == pred_class\n",
    "    \n",
    "    fig, (axes_1, axes_2, axes_3) = plt.subplots(1, 3,figsize=(12, 4))\n",
    "    sns.scatterplot(x=np.array(x_test)[:,0], y=np.array(x_test)[:,1], hue=real_class, ax=axes_1)\n",
    "    axes_1.set_title(\"Real classes\")\n",
    "    sns.scatterplot(x=np.array(x_test)[:,0], y=np.array(x_test)[:,1], hue=pred_class, ax=axes_2)\n",
    "    axes_2.set_title(\"Predicted classes\")\n",
    "    sns.scatterplot(x=np.array(x_test)[:,0], y=np.array(x_test)[:,1], hue=is_good_prediction, ax=axes_3)\n",
    "    axes_3.set_title(\"Good vs Bad Predictions\")\n",
    "    plt.show()"
   ]
  },
  {
   "cell_type": "markdown",
   "metadata": {},
   "source": [
    "## Dataset 1: multimodal-sparse"
   ]
  },
  {
   "cell_type": "code",
   "execution_count": 3,
   "metadata": {},
   "outputs": [
    {
     "name": "stdout",
     "output_type": "stream",
     "text": [
      "          x           y\n",
      "0  1.973326  100.155423\n",
      "1  1.716463  100.293045\n",
      "2 -0.248236   34.728861\n",
      "3 -0.552380  -71.773992\n",
      "4  0.892935   99.541820\n"
     ]
    }
   ],
   "source": [
    "df_train = pd.read_csv('data/regression/multimodal-sparse-test.csv')\n",
    "df_test = pd.read_csv('data/regression/multimodal-sparse-training.csv')\n",
    "print(df_train.head())\n",
    "\n",
    "x_train = [[x] for x in df_train.loc[:,\"x\"]]\n",
    "y_train = [[y] for y in df_train.loc[:,\"y\"]]\n",
    "x_test = [[x] for x in df_test.loc[:,\"x\"]]\n",
    "y_test = [[y] for y in df_test.loc[:,\"y\"]]"
   ]
  },
  {
   "cell_type": "markdown",
   "metadata": {},
   "source": [
    "### Model 1 - L1"
   ]
  },
  {
   "cell_type": "markdown",
   "metadata": {},
   "source": [
    "### Model 2 - L2"
   ]
  },
  {
   "cell_type": "markdown",
   "metadata": {},
   "source": [
    "## Dataset 2: rings5-sparse"
   ]
  },
  {
   "cell_type": "code",
   "execution_count": 8,
   "metadata": {},
   "outputs": [
    {
     "name": "stdout",
     "output_type": "stream",
     "text": [
      "              x          y  c\n",
      "1221  62.369921 -82.005205  2\n",
      "49   -26.845169  55.409034  3\n",
      "696  -36.511161  29.682483  3\n",
      "560   -6.342026  69.399044  3\n",
      "108   94.407758  13.794669  3\n",
      "\n",
      "Unique classes: 5\n"
     ]
    }
   ],
   "source": [
    "df_train = pd.read_csv('data/classification/rings5-sparse-training.csv').sample(frac=1)\n",
    "df_test = pd.read_csv('data/classification/rings5-sparse-test.csv').sample(frac=1)\n",
    "print(df_test.head())\n",
    "\n",
    "# onehot encoding\n",
    "x_train = df_train.loc[:,df_train.columns!='c'].to_numpy().tolist()\n",
    "y_train = pd.get_dummies(df_train.loc[:,df_train.columns=='c'].squeeze(axis=1), prefix='class').to_numpy().tolist()\n",
    "x_test = df_test.loc[:,df_test.columns!='c'].to_numpy().tolist()\n",
    "y_test = pd.get_dummies(df_test.loc[:,df_test.columns=='c'].squeeze(axis=1), prefix='class').to_numpy().tolist()\n",
    "\n",
    "print(f\"\\nUnique classes: {np.array(y_train).shape[1]}\")"
   ]
  },
  {
   "cell_type": "markdown",
   "metadata": {},
   "source": [
    "### Model 1 - L1"
   ]
  },
  {
   "cell_type": "markdown",
   "metadata": {},
   "source": [
    "### Model 2 - L2"
   ]
  },
  {
   "cell_type": "markdown",
   "metadata": {},
   "source": [
    "## Dataset 3: rings3-balance"
   ]
  },
  {
   "cell_type": "code",
   "execution_count": 9,
   "metadata": {},
   "outputs": [
    {
     "name": "stdout",
     "output_type": "stream",
     "text": [
      "              x          y  c\n",
      "1431  98.347330 -44.165247  2\n",
      "716   53.903912 -16.371275  1\n",
      "146  -38.451550  16.998680  1\n",
      "1775   5.057897  62.988262  1\n",
      "173   44.297138 -76.967903  1\n",
      "\n",
      "Unique classes: 3\n"
     ]
    }
   ],
   "source": [
    "df_train = pd.read_csv('data/classification/rings3-balance-training.csv').sample(frac=1)\n",
    "df_test = pd.read_csv('data/classification/rings3-balance-test.csv').sample(frac=1)\n",
    "print(df_test.head())\n",
    "\n",
    "# onehot encoding\n",
    "x_train = df_train.loc[:,df_train.columns!='c'].to_numpy().tolist()\n",
    "y_train = pd.get_dummies(df_train.loc[:,df_train.columns=='c'].squeeze(axis=1), prefix='class').to_numpy().tolist()\n",
    "x_test = df_test.loc[:,df_test.columns!='c'].to_numpy().tolist()\n",
    "y_test = pd.get_dummies(df_test.loc[:,df_test.columns=='c'].squeeze(axis=1), prefix='class').to_numpy().tolist()\n",
    "\n",
    "print(f\"\\nUnique classes: {np.array(y_train).shape[1]}\")"
   ]
  },
  {
   "cell_type": "markdown",
   "metadata": {},
   "source": [
    "### Model 1 - L1"
   ]
  },
  {
   "cell_type": "markdown",
   "metadata": {},
   "source": [
    "### Model 2 - L2"
   ]
  },
  {
   "cell_type": "markdown",
   "metadata": {},
   "source": [
    "## Dataset 4: xor3-balance"
   ]
  },
  {
   "cell_type": "code",
   "execution_count": 10,
   "metadata": {},
   "outputs": [
    {
     "name": "stdout",
     "output_type": "stream",
     "text": [
      "             x          y  c\n",
      "320  -6.324248  83.552483  1\n",
      "98   82.121286 -48.954320  0\n",
      "263 -60.581450 -64.400782  0\n",
      "632  68.320786 -44.120718  0\n",
      "591 -69.414896  -7.037392  1\n",
      "\n",
      "Unique classes: 2\n"
     ]
    }
   ],
   "source": [
    "df_train = pd.read_csv('data/classification/xor3-balance-training.csv').sample(frac=1)\n",
    "df_test = pd.read_csv('data/classification/xor3-balance-test.csv').sample(frac=1)\n",
    "print(df_test.head())\n",
    "\n",
    "# onehot encoding\n",
    "x_train = df_train.loc[:,df_train.columns!='c'].to_numpy().tolist()\n",
    "y_train = pd.get_dummies(df_train.loc[:,df_train.columns=='c'].squeeze(axis=1), prefix='class').to_numpy().tolist()\n",
    "x_test = df_test.loc[:,df_test.columns!='c'].to_numpy().tolist()\n",
    "y_test = pd.get_dummies(df_test.loc[:,df_test.columns=='c'].squeeze(axis=1), prefix='class').to_numpy().tolist()\n",
    "\n",
    "print(f\"\\nUnique classes: {np.array(y_train).shape[1]}\")"
   ]
  },
  {
   "cell_type": "markdown",
   "metadata": {},
   "source": [
    "### Model 1 - L1"
   ]
  },
  {
   "cell_type": "markdown",
   "metadata": {},
   "source": [
    "### Model 2 - L2"
   ]
  },
  {
   "cell_type": "markdown",
   "metadata": {},
   "source": [
    "# Summary"
   ]
  }
 ],
 "metadata": {
  "interpreter": {
   "hash": "6553f9dcd9d8af4a6d8fef01a514c9a715cb88eedc2258fed476c62d27d9dcbf"
  },
  "kernelspec": {
   "display_name": "Python 3.9.7 ('ml')",
   "language": "python",
   "name": "python3"
  },
  "language_info": {
   "codemirror_mode": {
    "name": "ipython",
    "version": 3
   },
   "file_extension": ".py",
   "mimetype": "text/x-python",
   "name": "python",
   "nbconvert_exporter": "python",
   "pygments_lexer": "ipython3",
   "version": "3.9.7"
  },
  "orig_nbformat": 4
 },
 "nbformat": 4,
 "nbformat_minor": 2
}
