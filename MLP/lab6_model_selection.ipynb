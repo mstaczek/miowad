{
 "cells": [
  {
   "cell_type": "markdown",
   "metadata": {},
   "source": [
    "# Notebook for model selection in lab 6\n",
    "\n",
    "Tested: MLP with 1,2,3 hidden layers and activations: sigmoid, tanh, relu, linear"
   ]
  },
  {
   "cell_type": "code",
   "execution_count": 37,
   "metadata": {},
   "outputs": [],
   "source": [
    "import MultiLayerPerceptron as mlp\n",
    "import pandas as pd"
   ]
  },
  {
   "cell_type": "markdown",
   "metadata": {},
   "source": [
    "## Dataset: multimodal-large"
   ]
  },
  {
   "cell_type": "code",
   "execution_count": 38,
   "metadata": {},
   "outputs": [
    {
     "name": "stdout",
     "output_type": "stream",
     "text": [
      "          x           y\n",
      "0  0.493292  -98.208166\n",
      "1 -0.470203  -55.283891\n",
      "2  1.869983  100.299997\n",
      "3 -1.040446    2.720629\n",
      "4 -0.616507  -75.991636\n"
     ]
    }
   ],
   "source": [
    "df_train = pd.read_csv('data/regression/multimodal-large-test.csv')\n",
    "df_test = pd.read_csv('data/regression/multimodal-large-training.csv')\n",
    "print(df_train.head())\n",
    "\n",
    "x_train = [[x] for x in df_train.loc[:,\"x\"]]\n",
    "y_train = [[y] for y in df_train.loc[:,\"y\"]]\n",
    "x_test = [[x] for x in df_test.loc[:,\"x\"]]\n",
    "y_test = [[y] for y in df_test.loc[:,\"y\"]]"
   ]
  },
  {
   "cell_type": "markdown",
   "metadata": {},
   "source": [
    "## Model training"
   ]
  },
  {
   "cell_type": "code",
   "execution_count": 39,
   "metadata": {},
   "outputs": [],
   "source": [
    "RELU = mlp.ActivationReLU()\n",
    "SIGMOID = mlp.ActivationSigmoid()\n",
    "TANH = mlp.ActivationTanh()\n",
    "LINEAR = mlp.ActivationLinear()\n",
    "\n",
    "# to be tested:\n",
    "activations = [RELU, SIGMOID, TANH, LINEAR]\n",
    "hidden_layers = [1,2,3]\n",
    "hidden_neurons_total = 120\n",
    "epochs = 200"
   ]
  },
  {
   "cell_type": "code",
   "execution_count": 41,
   "metadata": {},
   "outputs": [],
   "source": [
    "results = []\n",
    "def train_net(activation, hidden, lr):\n",
    "    net = mlp.NeuralNetwork()\n",
    "    net.add(mlp.Layer(1)) # only 1 input value\n",
    "    neurons_per_hidden = int(hidden_neurons_total / hidden)\n",
    "    for i in range(hidden):\n",
    "        net.add(mlp.Layer(neurons_per_hidden, activation))\n",
    "    net.add(mlp.Layer(1,add_bias=False)) # only 1 output value\n",
    "    net.train(x_train, y_train,x_test,y_test, epochs=200, learning_rate=lr, batch_size=1)\n",
    "    hist = net.get_training_history()\n",
    "    return [[str(activation), hidden,lr, hist['loss_train'][-1], hist['loss_test'][-1]]]"
   ]
  },
  {
   "cell_type": "markdown",
   "metadata": {},
   "source": [
    "#### ReLu"
   ]
  },
  {
   "cell_type": "code",
   "execution_count": 44,
   "metadata": {},
   "outputs": [
    {
     "name": "stdout",
     "output_type": "stream",
     "text": [
      "Epoch:    1/200,  MSE loss train: 3197.281,  test: 3161.066\n",
      "Epoch:   21/200,  MSE loss train: 1711.915,  test: 1691.843\n",
      "Epoch:   41/200,  MSE loss train: 1635.916,  test: 1601.014\n",
      "Epoch:   61/200,  MSE loss train: 1624.463,  test: 1587.807\n",
      "Epoch:   81/200,  MSE loss train:  1619.69,  test:  1582.38\n",
      "Epoch:  101/200,  MSE loss train: 1617.251,  test: 1579.957\n",
      "Epoch:  121/200,  MSE loss train: 1615.511,  test: 1578.464\n",
      "Epoch:  141/200,  MSE loss train: 1612.151,  test:  1575.54\n",
      "Epoch:  161/200,  MSE loss train: 1608.605,  test: 1572.133\n",
      "Epoch:  181/200,  MSE loss train: 1605.546,  test: 1569.075\n",
      "Epoch:  200/200,  MSE loss train: 1602.898,  test: 1566.403\n"
     ]
    }
   ],
   "source": [
    "res1 = train_net(RELU, 1, 0.0003)"
   ]
  },
  {
   "cell_type": "code",
   "execution_count": 45,
   "metadata": {},
   "outputs": [
    {
     "data": {
      "text/plain": [
       "[['relu', 1, 0.0003, 1602.89814861013, 1566.403175085824]]"
      ]
     },
     "execution_count": 45,
     "metadata": {},
     "output_type": "execute_result"
    }
   ],
   "source": [
    "res1"
   ]
  },
  {
   "cell_type": "code",
   "execution_count": 53,
   "metadata": {},
   "outputs": [
    {
     "name": "stdout",
     "output_type": "stream",
     "text": [
      "Epoch:    1/200,  MSE loss train: 2409.433,  test: 2380.421\n",
      "Epoch:   21/200,  MSE loss train:  527.541,  test:  549.613\n",
      "Epoch:   41/200,  MSE loss train:  258.209,  test:  266.184\n",
      "Epoch:   61/200,  MSE loss train:   216.32,  test:  223.703\n",
      "Epoch:   81/200,  MSE loss train:  218.044,  test:   230.15\n",
      "Epoch:  101/200,  MSE loss train:  152.827,  test:  153.564\n",
      "Epoch:  121/200,  MSE loss train:  146.183,  test:  146.152\n",
      "Epoch:  141/200,  MSE loss train:  174.895,  test:  177.554\n",
      "Epoch:  161/200,  MSE loss train:  171.835,  test:  172.955\n",
      "Epoch:  181/200,  MSE loss train:  175.183,  test:  175.699\n",
      "Epoch:  200/200,  MSE loss train:  144.594,  test:  143.694\n"
     ]
    }
   ],
   "source": [
    "res2 = train_net(RELU, 2, 0.0003)"
   ]
  },
  {
   "cell_type": "code",
   "execution_count": 54,
   "metadata": {},
   "outputs": [
    {
     "data": {
      "text/plain": [
       "[['relu', 2, 0.0003, 144.59368000950653, 143.6938414980373]]"
      ]
     },
     "execution_count": 54,
     "metadata": {},
     "output_type": "execute_result"
    }
   ],
   "source": [
    "res2"
   ]
  },
  {
   "cell_type": "code",
   "execution_count": 51,
   "metadata": {},
   "outputs": [
    {
     "name": "stdout",
     "output_type": "stream",
     "text": [
      "Epoch:    1/200,  MSE loss train: 3269.361,  test: 3204.873\n",
      "Epoch:   21/200,  MSE loss train:  326.488,  test:  331.381\n",
      "Epoch:   41/200,  MSE loss train:   122.84,  test:  124.515\n",
      "Epoch:   61/200,  MSE loss train:   54.082,  test:   70.508\n",
      "Epoch:   81/200,  MSE loss train:   73.761,  test:   81.681\n",
      "Epoch:  101/200,  MSE loss train:   21.031,  test:   28.074\n",
      "Epoch:  121/200,  MSE loss train:    5.801,  test:   11.397\n",
      "Epoch:  141/200,  MSE loss train:   10.369,  test:   15.194\n",
      "Epoch:  161/200,  MSE loss train:   13.163,  test:   18.045\n",
      "Epoch:  181/200,  MSE loss train:    8.175,  test:   12.774\n",
      "Epoch:  200/200,  MSE loss train:    7.607,  test:   12.496\n"
     ]
    }
   ],
   "source": [
    "res3 = train_net(RELU, 3, 0.0001)"
   ]
  },
  {
   "cell_type": "code",
   "execution_count": 52,
   "metadata": {},
   "outputs": [
    {
     "data": {
      "text/plain": [
       "[['relu', 3, 0.0001, 7.606620362241119, 12.495676041805275]]"
      ]
     },
     "execution_count": 52,
     "metadata": {},
     "output_type": "execute_result"
    }
   ],
   "source": [
    "res3"
   ]
  },
  {
   "cell_type": "markdown",
   "metadata": {},
   "source": [
    "#### Linear"
   ]
  },
  {
   "cell_type": "code",
   "execution_count": 55,
   "metadata": {},
   "outputs": [
    {
     "name": "stdout",
     "output_type": "stream",
     "text": [
      "Epoch:    1/200,  MSE loss train: 4471.382,  test: 4437.484\n",
      "Epoch:   21/200,  MSE loss train:  4455.72,  test: 4420.794\n",
      "Epoch:   41/200,  MSE loss train: 4455.477,  test: 4420.318\n",
      "Epoch:   61/200,  MSE loss train: 4455.821,  test: 4420.575\n",
      "Epoch:   81/200,  MSE loss train:   4456.3,  test: 4421.017\n",
      "Epoch:  101/200,  MSE loss train:  4456.83,  test: 4421.527\n",
      "Epoch:  121/200,  MSE loss train: 4457.386,  test:  4422.07\n",
      "Epoch:  141/200,  MSE loss train: 4457.956,  test: 4422.632\n",
      "Epoch:  161/200,  MSE loss train: 4458.538,  test: 4423.207\n",
      "Epoch:  181/200,  MSE loss train: 4459.127,  test: 4423.791\n",
      "Epoch:  200/200,  MSE loss train: 4459.693,  test: 4424.354\n"
     ]
    }
   ],
   "source": [
    "res4 = train_net(LINEAR, 1, 0.0001)"
   ]
  },
  {
   "cell_type": "code",
   "execution_count": 56,
   "metadata": {},
   "outputs": [
    {
     "data": {
      "text/plain": [
       "[['linear', 1, 0.0001, 4459.693008558467, 4424.354227295575]]"
      ]
     },
     "execution_count": 56,
     "metadata": {},
     "output_type": "execute_result"
    }
   ],
   "source": [
    "res4"
   ]
  },
  {
   "cell_type": "code",
   "execution_count": 57,
   "metadata": {},
   "outputs": [
    {
     "name": "stdout",
     "output_type": "stream",
     "text": [
      "Epoch:    1/200,  MSE loss train: 4568.883,  test:  4536.53\n",
      "Epoch:   21/200,  MSE loss train: 4535.169,  test: 4500.582\n",
      "Epoch:   41/200,  MSE loss train: 4549.059,  test: 4514.327\n",
      "Epoch:   61/200,  MSE loss train: 4559.022,  test:  4524.24\n",
      "Epoch:   81/200,  MSE loss train: 4565.931,  test: 4531.118\n",
      "Epoch:  101/200,  MSE loss train: 4570.833,  test: 4535.991\n",
      "Epoch:  121/200,  MSE loss train: 4574.462,  test: 4539.586\n",
      "Epoch:  141/200,  MSE loss train: 4577.282,  test: 4542.369\n",
      "Epoch:  161/200,  MSE loss train: 4579.581,  test: 4544.631\n",
      "Epoch:  181/200,  MSE loss train: 4581.539,  test: 4546.552\n",
      "Epoch:  200/200,  MSE loss train: 4583.189,  test: 4548.168\n"
     ]
    }
   ],
   "source": [
    "res5 = train_net(LINEAR, 2, 0.0001)"
   ]
  },
  {
   "cell_type": "code",
   "execution_count": 58,
   "metadata": {},
   "outputs": [
    {
     "data": {
      "text/plain": [
       "[['linear', 2, 0.0001, 4583.188540893184, 4548.167808027301]]"
      ]
     },
     "execution_count": 58,
     "metadata": {},
     "output_type": "execute_result"
    }
   ],
   "source": [
    "res5"
   ]
  },
  {
   "cell_type": "code",
   "execution_count": 59,
   "metadata": {},
   "outputs": [
    {
     "name": "stdout",
     "output_type": "stream",
     "text": [
      "Epoch:    1/200,  MSE loss train: 4628.613,  test: 4596.941\n",
      "Epoch:   21/200,  MSE loss train: 4618.215,  test: 4584.671\n",
      "Epoch:   41/200,  MSE loss train: 4627.946,  test: 4593.984\n",
      "Epoch:   61/200,  MSE loss train: 4632.714,  test: 4598.476\n",
      "Epoch:   81/200,  MSE loss train: 4636.413,  test: 4601.976\n",
      "Epoch:  101/200,  MSE loss train: 4639.487,  test:   4604.9\n",
      "Epoch:  121/200,  MSE loss train: 4642.046,  test: 4607.339\n",
      "Epoch:  141/200,  MSE loss train: 4644.195,  test: 4609.388\n",
      "Epoch:  161/200,  MSE loss train: 4646.031,  test:  4611.14\n",
      "Epoch:  181/200,  MSE loss train: 4647.638,  test: 4612.673\n",
      "Epoch:  200/200,  MSE loss train:  4649.01,  test: 4613.984\n"
     ]
    }
   ],
   "source": [
    "res6 = train_net(LINEAR, 3, 0.0001)"
   ]
  },
  {
   "cell_type": "code",
   "execution_count": 60,
   "metadata": {},
   "outputs": [
    {
     "data": {
      "text/plain": [
       "[['linear', 3, 0.0001, 4649.009925706688, 4613.9842402455515]]"
      ]
     },
     "execution_count": 60,
     "metadata": {},
     "output_type": "execute_result"
    }
   ],
   "source": [
    "res6"
   ]
  },
  {
   "cell_type": "markdown",
   "metadata": {},
   "source": [
    "#### Sigmoid"
   ]
  },
  {
   "cell_type": "code",
   "execution_count": 61,
   "metadata": {},
   "outputs": [
    {
     "name": "stdout",
     "output_type": "stream",
     "text": [
      "Epoch:    1/200,  MSE loss train: 2906.766,  test: 2853.649\n",
      "Epoch:   21/200,  MSE loss train:  222.781,  test:  222.937\n",
      "Epoch:   41/200,  MSE loss train:  115.218,  test:  116.274\n",
      "Epoch:   61/200,  MSE loss train:    41.39,  test:   45.647\n",
      "Epoch:   81/200,  MSE loss train:    18.04,  test:   22.827\n",
      "Epoch:  101/200,  MSE loss train:   10.465,  test:   15.286\n",
      "Epoch:  121/200,  MSE loss train:    7.801,  test:   12.684\n",
      "Epoch:  141/200,  MSE loss train:    6.536,  test:   11.471\n",
      "Epoch:  161/200,  MSE loss train:    5.702,  test:   10.665\n",
      "Epoch:  181/200,  MSE loss train:    5.051,  test:   10.025\n",
      "Epoch:  200/200,  MSE loss train:    4.528,  test:    9.502\n"
     ]
    }
   ],
   "source": [
    "res7 = train_net(SIGMOID, 1, 0.003)"
   ]
  },
  {
   "cell_type": "code",
   "execution_count": 62,
   "metadata": {},
   "outputs": [
    {
     "data": {
      "text/plain": [
       "[['sigmoid', 1, 0.003, 4.5275544043070735, 9.50229057128129]]"
      ]
     },
     "execution_count": 62,
     "metadata": {},
     "output_type": "execute_result"
    }
   ],
   "source": [
    "res7"
   ]
  },
  {
   "cell_type": "code",
   "execution_count": 66,
   "metadata": {},
   "outputs": [
    {
     "name": "stdout",
     "output_type": "stream",
     "text": [
      "Epoch:    1/200,  MSE loss train: 5180.808,  test: 5142.655\n",
      "Epoch:   21/200,  MSE loss train: 1658.218,  test: 1510.964\n",
      "Epoch:   41/200,  MSE loss train: 1614.489,  test: 1469.816\n",
      "Epoch:   61/200,  MSE loss train:   1594.8,  test: 1454.243\n",
      "Epoch:   81/200,  MSE loss train: 1589.222,  test: 1450.222\n",
      "Epoch:  101/200,  MSE loss train:  1586.72,  test: 1448.342\n",
      "Epoch:  121/200,  MSE loss train: 1585.297,  test: 1447.198\n",
      "Epoch:  141/200,  MSE loss train:   1584.4,  test: 1446.446\n",
      "Epoch:  161/200,  MSE loss train: 1583.781,  test: 1445.959\n",
      "Epoch:  181/200,  MSE loss train: 1583.333,  test: 1445.546\n",
      "Epoch:  200/200,  MSE loss train: 1583.002,  test: 1445.242\n"
     ]
    }
   ],
   "source": [
    "res8 = train_net(SIGMOID, 2, 0.0003)"
   ]
  },
  {
   "cell_type": "code",
   "execution_count": 67,
   "metadata": {},
   "outputs": [
    {
     "data": {
      "text/plain": [
       "[['sigmoid', 2, 0.0003, 1583.0022959877779, 1445.2416712105726]]"
      ]
     },
     "execution_count": 67,
     "metadata": {},
     "output_type": "execute_result"
    }
   ],
   "source": [
    "res8"
   ]
  },
  {
   "cell_type": "code",
   "execution_count": 65,
   "metadata": {},
   "outputs": [
    {
     "name": "stdout",
     "output_type": "stream",
     "text": [
      "Epoch:    1/200,  MSE loss train: 5255.934,  test: 5215.411\n",
      "Epoch:   21/200,  MSE loss train: 1753.705,  test: 1645.683\n",
      "Epoch:   41/200,  MSE loss train: 1653.607,  test:  1506.08\n",
      "Epoch:   61/200,  MSE loss train: 1652.175,  test: 1504.393\n",
      "Epoch:   81/200,  MSE loss train: 1651.792,  test: 1503.951\n",
      "Epoch:  101/200,  MSE loss train: 1640.425,  test: 1491.285\n",
      "Epoch:  121/200,  MSE loss train: 1526.064,  test: 1375.752\n",
      "Epoch:  141/200,  MSE loss train:   1503.1,  test: 1352.448\n",
      "Epoch:  161/200,  MSE loss train:  812.289,  test:  759.527\n",
      "Epoch:  181/200,  MSE loss train:  482.064,  test:   437.79\n",
      "Epoch:  200/200,  MSE loss train:  416.797,  test:  374.566\n"
     ]
    }
   ],
   "source": [
    "res9 = train_net(SIGMOID, 3, 0.0003)"
   ]
  },
  {
   "cell_type": "code",
   "execution_count": 20,
   "metadata": {},
   "outputs": [
    {
     "data": {
      "text/plain": [
       "[['sigmoid', 3, 0.0003, 1420.809347368804, 1297.8523976115744]]"
      ]
     },
     "execution_count": 20,
     "metadata": {},
     "output_type": "execute_result"
    }
   ],
   "source": [
    "res9"
   ]
  },
  {
   "cell_type": "markdown",
   "metadata": {},
   "source": [
    "#### Tahn"
   ]
  },
  {
   "cell_type": "code",
   "execution_count": 68,
   "metadata": {},
   "outputs": [
    {
     "name": "stdout",
     "output_type": "stream",
     "text": [
      "Epoch:    1/200,  MSE loss train: 2467.043,  test: 2405.598\n",
      "Epoch:   21/200,  MSE loss train:   269.19,  test:   262.03\n",
      "Epoch:   41/200,  MSE loss train:   96.524,  test:   86.455\n",
      "Epoch:   61/200,  MSE loss train:  162.885,  test:   135.04\n",
      "Epoch:   81/200,  MSE loss train:    6.805,  test:   12.381\n",
      "Epoch:  101/200,  MSE loss train:    4.452,  test:    9.872\n",
      "Epoch:  121/200,  MSE loss train:     3.76,  test:    9.016\n",
      "Epoch:  141/200,  MSE loss train:    3.527,  test:    8.706\n",
      "Epoch:  161/200,  MSE loss train:     3.45,  test:    8.559\n",
      "Epoch:  181/200,  MSE loss train:    3.398,  test:    8.462\n",
      "Epoch:  200/200,  MSE loss train:    3.369,  test:    8.402\n"
     ]
    }
   ],
   "source": [
    "res10 = train_net(TANH, 1, 0.001)"
   ]
  },
  {
   "cell_type": "code",
   "execution_count": 69,
   "metadata": {},
   "outputs": [
    {
     "data": {
      "text/plain": [
       "[['tanh', 1, 0.001, 3.3689714949864564, 8.402340618373064]]"
      ]
     },
     "execution_count": 69,
     "metadata": {},
     "output_type": "execute_result"
    }
   ],
   "source": [
    "res10"
   ]
  },
  {
   "cell_type": "code",
   "execution_count": 70,
   "metadata": {},
   "outputs": [
    {
     "name": "stdout",
     "output_type": "stream",
     "text": [
      "Epoch:    1/200,  MSE loss train: 2873.092,  test: 2788.562\n",
      "Epoch:   21/200,  MSE loss train: 1715.814,  test: 1563.907\n",
      "Epoch:   41/200,  MSE loss train: 1713.159,  test: 1561.245\n",
      "Epoch:   61/200,  MSE loss train: 1568.874,  test: 1416.651\n",
      "Epoch:   81/200,  MSE loss train:  813.791,  test:  772.874\n",
      "Epoch:  101/200,  MSE loss train: 1558.712,  test: 1408.689\n",
      "Epoch:  121/200,  MSE loss train: 1561.372,  test: 1412.274\n",
      "Epoch:  141/200,  MSE loss train:   874.89,  test:  822.664\n",
      "Epoch:  161/200,  MSE loss train: 1491.677,  test: 1353.875\n",
      "Epoch:  181/200,  MSE loss train:  761.416,  test:  728.251\n",
      "Epoch:  200/200,  MSE loss train:  737.841,  test:  727.638\n"
     ]
    }
   ],
   "source": [
    "res11 = train_net(TANH, 2, 0.0003)"
   ]
  },
  {
   "cell_type": "code",
   "execution_count": 71,
   "metadata": {},
   "outputs": [
    {
     "data": {
      "text/plain": [
       "[['tanh', 2, 0.0003, 737.8413239128622, 727.6379189257589]]"
      ]
     },
     "execution_count": 71,
     "metadata": {},
     "output_type": "execute_result"
    }
   ],
   "source": [
    "res11"
   ]
  },
  {
   "cell_type": "code",
   "execution_count": 72,
   "metadata": {},
   "outputs": [
    {
     "name": "stdout",
     "output_type": "stream",
     "text": [
      "Epoch:    1/200,  MSE loss train: 3400.103,  test: 3354.086\n",
      "Epoch:   21/200,  MSE loss train: 1663.841,  test:  1512.57\n",
      "Epoch:   41/200,  MSE loss train: 1600.237,  test: 1463.604\n",
      "Epoch:   61/200,  MSE loss train: 1589.917,  test: 1451.635\n",
      "Epoch:   81/200,  MSE loss train: 1672.395,  test: 1521.431\n",
      "Epoch:  101/200,  MSE loss train: 1611.322,  test: 1469.661\n",
      "Epoch:  121/200,  MSE loss train: 1610.511,  test: 1469.796\n",
      "Epoch:  141/200,  MSE loss train: 1613.646,  test: 1472.302\n",
      "Epoch:  161/200,  MSE loss train: 1410.788,  test: 1290.554\n",
      "Epoch:  181/200,  MSE loss train:  838.952,  test:  763.173\n",
      "Epoch:  200/200,  MSE loss train:  1152.34,  test:  1042.08\n"
     ]
    }
   ],
   "source": [
    "res12 = train_net(TANH, 3, 0.0001)"
   ]
  },
  {
   "cell_type": "code",
   "execution_count": 73,
   "metadata": {},
   "outputs": [
    {
     "data": {
      "text/plain": [
       "[['tanh', 3, 0.0001, 1152.3399181283032, 1042.0796565998414]]"
      ]
     },
     "execution_count": 73,
     "metadata": {},
     "output_type": "execute_result"
    }
   ],
   "source": [
    "res12"
   ]
  },
  {
   "cell_type": "markdown",
   "metadata": {},
   "source": [
    "## Summarise results"
   ]
  },
  {
   "cell_type": "code",
   "execution_count": 74,
   "metadata": {},
   "outputs": [],
   "source": [
    "results = res1  + res2  + res3 +\\\n",
    "          res4  + res5  + res6 +\\\n",
    "          res7  + res8  + res9 +\\\n",
    "          res10 + res11 + res12"
   ]
  },
  {
   "cell_type": "code",
   "execution_count": 77,
   "metadata": {},
   "outputs": [
    {
     "data": {
      "text/html": [
       "<div>\n",
       "<style scoped>\n",
       "    .dataframe tbody tr th:only-of-type {\n",
       "        vertical-align: middle;\n",
       "    }\n",
       "\n",
       "    .dataframe tbody tr th {\n",
       "        vertical-align: top;\n",
       "    }\n",
       "\n",
       "    .dataframe thead th {\n",
       "        text-align: right;\n",
       "    }\n",
       "</style>\n",
       "<table border=\"1\" class=\"dataframe\">\n",
       "  <thead>\n",
       "    <tr style=\"text-align: right;\">\n",
       "      <th></th>\n",
       "      <th>activation</th>\n",
       "      <th>hidden</th>\n",
       "      <th>learning rate</th>\n",
       "      <th>loss_train</th>\n",
       "      <th>loss_test</th>\n",
       "    </tr>\n",
       "  </thead>\n",
       "  <tbody>\n",
       "    <tr>\n",
       "      <th>0</th>\n",
       "      <td>relu</td>\n",
       "      <td>1</td>\n",
       "      <td>0.0003</td>\n",
       "      <td>1602.898149</td>\n",
       "      <td>1566.403175</td>\n",
       "    </tr>\n",
       "    <tr>\n",
       "      <th>1</th>\n",
       "      <td>relu</td>\n",
       "      <td>2</td>\n",
       "      <td>0.0003</td>\n",
       "      <td>144.593680</td>\n",
       "      <td>143.693841</td>\n",
       "    </tr>\n",
       "    <tr>\n",
       "      <th>2</th>\n",
       "      <td>relu</td>\n",
       "      <td>3</td>\n",
       "      <td>0.0001</td>\n",
       "      <td>7.606620</td>\n",
       "      <td>12.495676</td>\n",
       "    </tr>\n",
       "    <tr>\n",
       "      <th>3</th>\n",
       "      <td>linear</td>\n",
       "      <td>1</td>\n",
       "      <td>0.0001</td>\n",
       "      <td>4459.693009</td>\n",
       "      <td>4424.354227</td>\n",
       "    </tr>\n",
       "    <tr>\n",
       "      <th>4</th>\n",
       "      <td>linear</td>\n",
       "      <td>2</td>\n",
       "      <td>0.0001</td>\n",
       "      <td>4583.188541</td>\n",
       "      <td>4548.167808</td>\n",
       "    </tr>\n",
       "    <tr>\n",
       "      <th>5</th>\n",
       "      <td>linear</td>\n",
       "      <td>3</td>\n",
       "      <td>0.0001</td>\n",
       "      <td>4649.009926</td>\n",
       "      <td>4613.984240</td>\n",
       "    </tr>\n",
       "    <tr>\n",
       "      <th>6</th>\n",
       "      <td>sigmoid</td>\n",
       "      <td>1</td>\n",
       "      <td>0.0030</td>\n",
       "      <td>4.527554</td>\n",
       "      <td>9.502291</td>\n",
       "    </tr>\n",
       "    <tr>\n",
       "      <th>7</th>\n",
       "      <td>sigmoid</td>\n",
       "      <td>2</td>\n",
       "      <td>0.0003</td>\n",
       "      <td>1583.002296</td>\n",
       "      <td>1445.241671</td>\n",
       "    </tr>\n",
       "    <tr>\n",
       "      <th>8</th>\n",
       "      <td>sigmoid</td>\n",
       "      <td>3</td>\n",
       "      <td>0.0003</td>\n",
       "      <td>416.797194</td>\n",
       "      <td>374.565892</td>\n",
       "    </tr>\n",
       "    <tr>\n",
       "      <th>9</th>\n",
       "      <td>tanh</td>\n",
       "      <td>1</td>\n",
       "      <td>0.0010</td>\n",
       "      <td>3.368971</td>\n",
       "      <td>8.402341</td>\n",
       "    </tr>\n",
       "    <tr>\n",
       "      <th>10</th>\n",
       "      <td>tanh</td>\n",
       "      <td>2</td>\n",
       "      <td>0.0003</td>\n",
       "      <td>737.841324</td>\n",
       "      <td>727.637919</td>\n",
       "    </tr>\n",
       "    <tr>\n",
       "      <th>11</th>\n",
       "      <td>tanh</td>\n",
       "      <td>3</td>\n",
       "      <td>0.0001</td>\n",
       "      <td>1152.339918</td>\n",
       "      <td>1042.079657</td>\n",
       "    </tr>\n",
       "  </tbody>\n",
       "</table>\n",
       "</div>"
      ],
      "text/plain": [
       "   activation  hidden  learning rate   loss_train    loss_test\n",
       "0        relu       1         0.0003  1602.898149  1566.403175\n",
       "1        relu       2         0.0003   144.593680   143.693841\n",
       "2        relu       3         0.0001     7.606620    12.495676\n",
       "3      linear       1         0.0001  4459.693009  4424.354227\n",
       "4      linear       2         0.0001  4583.188541  4548.167808\n",
       "5      linear       3         0.0001  4649.009926  4613.984240\n",
       "6     sigmoid       1         0.0030     4.527554     9.502291\n",
       "7     sigmoid       2         0.0003  1583.002296  1445.241671\n",
       "8     sigmoid       3         0.0003   416.797194   374.565892\n",
       "9        tanh       1         0.0010     3.368971     8.402341\n",
       "10       tanh       2         0.0003   737.841324   727.637919\n",
       "11       tanh       3         0.0001  1152.339918  1042.079657"
      ]
     },
     "execution_count": 77,
     "metadata": {},
     "output_type": "execute_result"
    }
   ],
   "source": [
    "df = pd.DataFrame(data=results, columns=[\"activation\", \"hidden\",\"learning rate\", \"loss_train\",\"loss_test\"])\n",
    "df.to_csv(\"lab6_model_selection_results.csv\")\n",
    "df"
   ]
  }
 ],
 "metadata": {
  "interpreter": {
   "hash": "6553f9dcd9d8af4a6d8fef01a514c9a715cb88eedc2258fed476c62d27d9dcbf"
  },
  "kernelspec": {
   "display_name": "Python 3.9.7 ('ml')",
   "language": "python",
   "name": "python3"
  },
  "language_info": {
   "codemirror_mode": {
    "name": "ipython",
    "version": 3
   },
   "file_extension": ".py",
   "mimetype": "text/x-python",
   "name": "python",
   "nbconvert_exporter": "python",
   "pygments_lexer": "ipython3",
   "version": "3.9.7"
  },
  "orig_nbformat": 4
 },
 "nbformat": 4,
 "nbformat_minor": 2
}
