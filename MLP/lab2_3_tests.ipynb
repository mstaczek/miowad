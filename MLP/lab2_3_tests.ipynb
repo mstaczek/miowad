{
 "cells": [
  {
   "cell_type": "markdown",
   "metadata": {},
   "source": [
    "# Tests for backpropagation implementation"
   ]
  },
  {
   "cell_type": "markdown",
   "metadata": {},
   "source": [
    "### Simple linear test"
   ]
  },
  {
   "cell_type": "code",
   "execution_count": 2,
   "metadata": {},
   "outputs": [
    {
     "name": "stdout",
     "output_type": "stream",
     "text": [
      "Epoch:    1/90,   MSE train:   27.075\n",
      "Epoch:   10/90,   MSE train:   12.581\n",
      "Epoch:   19/90,   MSE train:    8.256\n",
      "Epoch:   28/90,   MSE train:    4.838\n",
      "Epoch:   37/90,   MSE train:    2.021\n",
      "Epoch:   46/90,   MSE train:    0.556\n",
      "Epoch:   55/90,   MSE train:     0.11\n",
      "Epoch:   64/90,   MSE train:    0.018\n",
      "Epoch:   73/90,   MSE train:    0.003\n",
      "Epoch:   82/90,   MSE train:      0.0\n",
      "Epoch:   90/90,   MSE train:      0.0\n"
     ]
    },
    {
     "data": {
      "text/plain": [
       "[[1.9951707956501477], [3.9903415913002953]]"
      ]
     },
     "execution_count": 2,
     "metadata": {},
     "output_type": "execute_result"
    }
   ],
   "source": [
    "import MultiLayerPerceptron as mlp\n",
    "net = mlp.NeuralNetwork(weights_random=True)\n",
    "net.add(mlp.Layer(neurons_count=1, add_bias=False))\n",
    "net.add(mlp.Layer(neurons_count=1, add_bias=False, activation_fun=mlp.ActivationLinear()))\n",
    "net.add(mlp.Layer(neurons_count=1, add_bias=False, activation_fun=mlp.ActivationLinear()))\n",
    "# print(net)\n",
    "net.train([[1],[2]],[[2],[4]],epochs=90,learning_rate=0.01, verbose=False)\n",
    "net.predict([[1],[2]]) # around 2 and 4"
   ]
  },
  {
   "cell_type": "code",
   "execution_count": 3,
   "metadata": {},
   "outputs": [
    {
     "data": {
      "image/png": "[encoded data removed]",
      "text/plain": [
       "<Figure size 432x288 with 1 Axes>"
      ]
     },
     "metadata": {
      "needs_background": "light"
     },
     "output_type": "display_data"
    }
   ],
   "source": [
    "net.plot_training_history()"
   ]
  },
  {
   "cell_type": "markdown",
   "metadata": {},
   "source": [
    "### Simple sigmoid test"
   ]
  },
  {
   "cell_type": "code",
   "execution_count": 12,
   "metadata": {},
   "outputs": [
    {
     "name": "stdout",
     "output_type": "stream",
     "text": [
      "Epoch:    1/1000,   MSE train:    0.493\n",
      "Epoch:  101/1000,   MSE train:    0.115\n",
      "Epoch:  201/1000,   MSE train:     0.04\n",
      "Epoch:  301/1000,   MSE train:    0.021\n",
      "Epoch:  401/1000,   MSE train:    0.013\n",
      "Epoch:  501/1000,   MSE train:    0.009\n",
      "Epoch:  601/1000,   MSE train:    0.006\n",
      "Epoch:  701/1000,   MSE train:    0.005\n",
      "Epoch:  801/1000,   MSE train:    0.004\n",
      "Epoch:  901/1000,   MSE train:    0.003\n",
      "Epoch: 1000/1000,   MSE train:    0.002\n"
     ]
    },
    {
     "data": {
      "text/plain": [
       "[[-0.6590293507490012], [-0.9628099082806213]]"
      ]
     },
     "execution_count": 12,
     "metadata": {},
     "output_type": "execute_result"
    }
   ],
   "source": [
    "import MultiLayerPerceptron as mlp\n",
    "\n",
    "net = mlp.NeuralNetwork(weights_random=True)\n",
    "net.add(mlp.Layer(neurons_count=1, add_bias=False))\n",
    "net.add(mlp.Layer(neurons_count=1, add_bias=False, activation_fun=mlp.ActivationSigmoid()))\n",
    "net.add(mlp.Layer(neurons_count=1, add_bias=False, activation_fun=mlp.ActivationLinear()))\n",
    "# print(net)\n",
    "\n",
    "net.train([[0],[1]],[[-0.6],[-1]],epochs=1000,learning_rate=0.1, verbose=False)\n",
    "net.predict([[0],[1]]) # around -0.6 and -1"
   ]
  },
  {
   "cell_type": "markdown",
   "metadata": {},
   "source": [
    "### 2 layers sigmoid test"
   ]
  },
  {
   "cell_type": "code",
   "execution_count": 14,
   "metadata": {},
   "outputs": [
    {
     "name": "stdout",
     "output_type": "stream",
     "text": [
      "Epoch:    1/10000,   MSE train:    1.491\n",
      "Epoch: 1001/10000,   MSE train:    0.008\n",
      "Epoch: 2001/10000,   MSE train:      0.0\n",
      "Epoch: 3001/10000,   MSE train:      0.0\n",
      "Epoch: 4001/10000,   MSE train:      0.0\n",
      "Epoch: 5001/10000,   MSE train:      0.0\n",
      "Epoch: 6001/10000,   MSE train:      0.0\n",
      "Epoch: 7001/10000,   MSE train:      0.0\n",
      "Epoch: 8001/10000,   MSE train:      0.0\n",
      "Epoch: 9001/10000,   MSE train:      0.0\n",
      "Epoch:10000/10000,   MSE train:      0.0\n"
     ]
    },
    {
     "data": {
      "text/plain": [
       "[[-0.60000001821429, -1.199999991402926],\n",
       " [-0.9999999846320851, -2.000000007290068]]"
      ]
     },
     "execution_count": 14,
     "metadata": {},
     "output_type": "execute_result"
    }
   ],
   "source": [
    "import MultiLayerPerceptron as mlp\n",
    "\n",
    "net = mlp.NeuralNetwork(weights_random=True)\n",
    "net.add(mlp.Layer(neurons_count=1, add_bias=False))\n",
    "net.add(mlp.Layer(neurons_count=5, add_bias=False, activation_fun=mlp.ActivationSigmoid()))\n",
    "net.add(mlp.Layer(neurons_count=5, add_bias=False, activation_fun=mlp.ActivationSigmoid()))\n",
    "net.add(mlp.Layer(neurons_count=2, add_bias=False, activation_fun=mlp.ActivationLinear()))\n",
    "# print(net)\n",
    "net.train([[0],[1]],[[-0.6,-1.2],[-1,-2]],epochs=10000,learning_rate=0.1, verbose=False)\n",
    "net.predict([[0],[1]]) # around [-0.6,-1.2] and [-1,-2]"
   ]
  },
  {
   "cell_type": "markdown",
   "metadata": {},
   "source": [
    "### bias in input layer"
   ]
  },
  {
   "cell_type": "code",
   "execution_count": 15,
   "metadata": {},
   "outputs": [
    {
     "name": "stdout",
     "output_type": "stream",
     "text": [
      "Epoch:    1/1000,   MSE train:   20.546\n",
      "Epoch:  101/1000,   MSE train:    0.046\n",
      "Epoch:  201/1000,   MSE train:    0.032\n",
      "Epoch:  301/1000,   MSE train:    0.023\n",
      "Epoch:  401/1000,   MSE train:    0.016\n",
      "Epoch:  501/1000,   MSE train:    0.012\n",
      "Epoch:  601/1000,   MSE train:    0.008\n",
      "Epoch:  701/1000,   MSE train:    0.006\n",
      "Epoch:  801/1000,   MSE train:    0.004\n",
      "Epoch:  901/1000,   MSE train:    0.003\n",
      "Epoch: 1000/1000,   MSE train:    0.002\n"
     ]
    },
    {
     "data": {
      "text/plain": [
       "[[3.0559703208465723], [4.965474817159576]]"
      ]
     },
     "execution_count": 15,
     "metadata": {},
     "output_type": "execute_result"
    }
   ],
   "source": [
    "import MultiLayerPerceptron as mlp\n",
    "\n",
    "net = mlp.NeuralNetwork(weights_random=True)\n",
    "net.add(mlp.Layer(neurons_count=1, add_bias=True))\n",
    "net.add(mlp.Layer(neurons_count=1, add_bias=False, activation_fun=mlp.ActivationLinear()))\n",
    "net.add(mlp.Layer(neurons_count=1, add_bias=False, activation_fun=mlp.ActivationLinear()))\n",
    "# print(net)\n",
    "net.train([[1],[2]],[[3],[5]],epochs=1000,learning_rate=0.01, verbose=False)\n",
    "net.predict([[1],[2]]) # around 3 and 5"
   ]
  },
  {
   "cell_type": "markdown",
   "metadata": {},
   "source": [
    "### bias in hidden layer"
   ]
  },
  {
   "cell_type": "code",
   "execution_count": 16,
   "metadata": {},
   "outputs": [
    {
     "name": "stdout",
     "output_type": "stream",
     "text": [
      "Epoch:    1/1000,   MSE train:   22.762\n",
      "Epoch:  101/1000,   MSE train:    0.008\n",
      "Epoch:  201/1000,   MSE train:    0.003\n",
      "Epoch:  301/1000,   MSE train:    0.001\n",
      "Epoch:  401/1000,   MSE train:      0.0\n",
      "Epoch:  501/1000,   MSE train:      0.0\n",
      "Epoch:  601/1000,   MSE train:      0.0\n",
      "Epoch:  701/1000,   MSE train:      0.0\n",
      "Epoch:  801/1000,   MSE train:      0.0\n",
      "Epoch:  901/1000,   MSE train:      0.0\n",
      "Epoch: 1000/1000,   MSE train:      0.0\n"
     ]
    },
    {
     "data": {
      "text/plain": [
       "[[3.000681069318752], [4.999554410465061]]"
      ]
     },
     "execution_count": 16,
     "metadata": {},
     "output_type": "execute_result"
    }
   ],
   "source": [
    "import MultiLayerPerceptron as mlp\n",
    "\n",
    "net = mlp.NeuralNetwork(weights_random=True)\n",
    "net.add(mlp.Layer(neurons_count=1, add_bias=True))\n",
    "net.add(mlp.Layer(neurons_count=1, add_bias=True, activation_fun=mlp.ActivationLinear()))\n",
    "net.add(mlp.Layer(neurons_count=1, add_bias=False, activation_fun=mlp.ActivationLinear()))\n",
    "# print(net)\n",
    "\n",
    "net.train([[1],[2]],[[3],[5]],epochs=1000,learning_rate=0.03, verbose=False)\n",
    "net.predict([[1],[2]]) # around 3 and 5"
   ]
  },
  {
   "cell_type": "markdown",
   "metadata": {},
   "source": [
    "### multiple layers with bias"
   ]
  },
  {
   "cell_type": "code",
   "execution_count": 17,
   "metadata": {},
   "outputs": [
    {
     "name": "stdout",
     "output_type": "stream",
     "text": [
      "Epoch:    1/1000,   MSE train:26379.218\n",
      "Epoch:  101/1000,   MSE train:     6.89\n",
      "Epoch:  201/1000,   MSE train:    1.725\n",
      "Epoch:  301/1000,   MSE train:    0.418\n",
      "Epoch:  401/1000,   MSE train:    0.099\n",
      "Epoch:  501/1000,   MSE train:    0.023\n",
      "Epoch:  601/1000,   MSE train:    0.005\n",
      "Epoch:  701/1000,   MSE train:    0.001\n",
      "Epoch:  801/1000,   MSE train:      0.0\n",
      "Epoch:  901/1000,   MSE train:      0.0\n",
      "Epoch: 1000/1000,   MSE train:      0.0\n"
     ]
    },
    {
     "data": {
      "text/plain": [
       "[[103.99494004835121], [204.00250099180505]]"
      ]
     },
     "execution_count": 17,
     "metadata": {},
     "output_type": "execute_result"
    }
   ],
   "source": [
    "import MultiLayerPerceptron as mlp\n",
    "\n",
    "net =  mlp.NeuralNetwork()\n",
    "net.add(mlp.Layer(neurons_count=2, add_bias=True))\n",
    "net.add(mlp.Layer(neurons_count=3, activation_fun=mlp.ActivationLinear(), add_bias=False))\n",
    "net.add(mlp.Layer(neurons_count=3, activation_fun=mlp.ActivationLinear(), add_bias=True))\n",
    "net.add(mlp.Layer(neurons_count=5, activation_fun=mlp.ActivationLinear(), add_bias=False))\n",
    "net.add(mlp.Layer(neurons_count=1, activation_fun=mlp.ActivationLinear(), add_bias=False))\n",
    "\n",
    "x_train = [[1,2],[3,4]]\n",
    "y_train = [[104],[204]]\n",
    "\n",
    "net.train(x_train,y_train,epochs=1000,learning_rate=0.0001,verbose=False)\n",
    "\n",
    "net.predict(x_train) # around 104 and 204"
   ]
  },
  {
   "cell_type": "markdown",
   "metadata": {},
   "source": [
    "### batch size"
   ]
  },
  {
   "cell_type": "code",
   "execution_count": 18,
   "metadata": {},
   "outputs": [
    {
     "name": "stdout",
     "output_type": "stream",
     "text": [
      "Epoch:    1/500,   MSE train:  138.671,   MSE test:  152.291\n",
      "Epoch:   51/500,   MSE train:    3.284,   MSE test:    2.784\n",
      "Epoch:  101/500,   MSE train:    1.539,   MSE test:    1.305\n",
      "Epoch:  151/500,   MSE train:    0.632,   MSE test:    0.536\n",
      "Epoch:  201/500,   MSE train:     0.22,   MSE test:    0.186\n",
      "Epoch:  251/500,   MSE train:    0.066,   MSE test:    0.056\n",
      "Epoch:  301/500,   MSE train:    0.018,   MSE test:    0.015\n",
      "Epoch:  351/500,   MSE train:    0.004,   MSE test:    0.004\n",
      "Epoch:  401/500,   MSE train:    0.001,   MSE test:    0.001\n",
      "Epoch:  451/500,   MSE train:      0.0,   MSE test:      0.0\n",
      "Epoch:  500/500,   MSE train:      0.0,   MSE test:      0.0\n"
     ]
    },
    {
     "data": {
      "text/plain": [
       "[[6.986888782712493], [45.02132149950564]]"
      ]
     },
     "execution_count": 18,
     "metadata": {},
     "output_type": "execute_result"
    }
   ],
   "source": [
    "import MultiLayerPerceptron as mlp\n",
    "\n",
    "net = mlp.NeuralNetwork(weights_random=True)\n",
    "net.add(mlp.Layer(neurons_count=1, add_bias=True))\n",
    "net.add(mlp.Layer(neurons_count=3, add_bias=True, activation_fun=mlp.ActivationLinear()))\n",
    "net.add(mlp.Layer(neurons_count=3, add_bias=True, activation_fun=mlp.ActivationLinear()))\n",
    "net.add(mlp.Layer(neurons_count=1, add_bias=False, activation_fun=mlp.ActivationLinear()))\n",
    "# print(net)\n",
    "X = [[i] for i in range(10)]\n",
    "Y = [[2*i+5] for i in range(10)]\n",
    "\n",
    "X2 = [[i+0.5] for i in range(10)]\n",
    "Y2 = [[2*(i+0.5)+5] for i in range(10)]\n",
    "\n",
    "net.train(X,Y,X2,Y2,epochs=500,learning_rate=0.001, verbose=False,batch_size=4,debug=False)\n",
    "net.predict([[1],[20]]) # around 7 and 45"
   ]
  }
 ],
 "metadata": {
  "interpreter": {
   "hash": "6553f9dcd9d8af4a6d8fef01a514c9a715cb88eedc2258fed476c62d27d9dcbf"
  },
  "kernelspec": {
   "display_name": "Python 3.9.7 ('ml')",
   "language": "python",
   "name": "python3"
  },
  "language_info": {
   "codemirror_mode": {
    "name": "ipython",
    "version": 3
   },
   "file_extension": ".py",
   "mimetype": "text/x-python",
   "name": "python",
   "nbconvert_exporter": "python",
   "pygments_lexer": "ipython3",
   "version": "3.9.7"
  },
  "orig_nbformat": 4
 },
 "nbformat": 4,
 "nbformat_minor": 2
}
